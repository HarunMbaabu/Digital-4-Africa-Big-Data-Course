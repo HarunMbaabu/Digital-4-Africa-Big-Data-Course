{
 "cells": [
  {
   "cell_type": "code",
   "execution_count": null,
   "id": "cd0ca561",
   "metadata": {},
   "outputs": [],
   "source": [
    "#variable  \n",
    "name  = \"Wanjiru\""
   ]
  },
  {
   "cell_type": "code",
   "execution_count": null,
   "id": "56e66d8c",
   "metadata": {},
   "outputs": [],
   "source": [
    "#Indentifiers  \n",
    "name"
   ]
  },
  {
   "cell_type": "code",
   "execution_count": 3,
   "id": "e031cd89",
   "metadata": {},
   "outputs": [
    {
     "ename": "SyntaxError",
     "evalue": "invalid syntax (2017894565.py, line 2)",
     "output_type": "error",
     "traceback": [
      "\u001b[0;36m  File \u001b[0;32m\"/tmp/ipykernel_16873/2017894565.py\"\u001b[0;36m, line \u001b[0;32m2\u001b[0m\n\u001b[0;31m    def = 20\u001b[0m\n\u001b[0m        ^\u001b[0m\n\u001b[0;31mSyntaxError\u001b[0m\u001b[0;31m:\u001b[0m invalid syntax\n"
     ]
    }
   ],
   "source": [
    "#Keywords \n",
    "def = 20\n"
   ]
  },
  {
   "cell_type": "code",
   "execution_count": 16,
   "id": "d5002c2d",
   "metadata": {},
   "outputs": [
    {
     "data": {
      "text/plain": [
       "30"
      ]
     },
     "execution_count": 16,
     "metadata": {},
     "output_type": "execute_result"
    }
   ],
   "source": [
    " \n",
    "\n",
    "name  = \"Wanjiru\"\n",
    "\n",
    "age  = 30 \n",
    "\n",
    "age"
   ]
  },
  {
   "cell_type": "code",
   "execution_count": 11,
   "id": "fafd8312",
   "metadata": {},
   "outputs": [
    {
     "data": {
      "text/plain": [
       "23"
      ]
     },
     "execution_count": 11,
     "metadata": {},
     "output_type": "execute_result"
    }
   ],
   "source": [
    "def calculateage():\n",
    "    yob = 2000\n",
    "    cy  = 2023\n",
    "    age  = cy - yob\n",
    "    \n",
    "    return age\n",
    "\n",
    "\n",
    "calculateage()"
   ]
  },
  {
   "cell_type": "code",
   "execution_count": 18,
   "id": "a47da595",
   "metadata": {},
   "outputs": [
    {
     "data": {
      "text/plain": [
       "(10, 20, 30, 70)"
      ]
     },
     "execution_count": 18,
     "metadata": {},
     "output_type": "execute_result"
    }
   ],
   "source": [
    "data = (10, 20, 30, 70)\n",
    "\n",
    "data "
   ]
  },
  {
   "cell_type": "code",
   "execution_count": null,
   "id": "bb420b6a",
   "metadata": {},
   "outputs": [],
   "source": [
    "# can store any data type\n",
    "multiple_types = [True, 3.7, \"Python\"]\n",
    "\n",
    "# access and modify\n",
    "favourite_foods = [\"pasta\", \"pizza\", \"french fries\"]\n",
    "print(favourite_foods[1]) # pizza\n",
    "favourite_foods[0] = \"rösti\"\n",
    "print(favourite_foods[0]) # rösti\n",
    "\n",
    "# subsets\n",
    "print(favourite_foods[1:3]) # ['pizza', 'french fries']\n",
    "print(favourite_foods[2:]) # ['french fries']\n",
    "print(favourite_foods[0:2]) # ['rösti', 'pizza']\n",
    "\n",
    "# append\n",
    "favourite_foods.append(\"paella\")\n",
    "\n",
    "# insert at index\n",
    "favourite_foods.insert(1, \"soup\")\n",
    "\n",
    "# remove\n",
    "favourite_foods.remove(\"soup\")\n",
    "\n",
    "# get length\n",
    "print(len(favourite_foods)) # 4\n",
    "\n",
    "# get subset (the original list is not modified)\n",
    "print(favourite_foods[1:3]) # ['pizza', 'french fries']\n",
    "\n",
    "# lists inside lists\n",
    "favourite_drinks = [\"water\", \"wine\", \"juice\"]\n",
    "favourites = [favourite_foods, favourite_drinks]\n",
    "print(favourites[1][2]) # juice\n"
   ]
  },
  {
   "cell_type": "code",
   "execution_count": 20,
   "id": "a02263ad",
   "metadata": {},
   "outputs": [
    {
     "data": {
      "text/plain": [
       "{'apple', 'banana', 'cherry'}"
      ]
     },
     "execution_count": 20,
     "metadata": {},
     "output_type": "execute_result"
    }
   ],
   "source": [
    "myset = {\"apple\", \"banana\", \"cherry\", \"apple\", \"banana\"}\n",
    "myset"
   ]
  }
 ],
 "metadata": {
  "kernelspec": {
   "display_name": "Python 3 (ipykernel)",
   "language": "python",
   "name": "python3"
  },
  "language_info": {
   "codemirror_mode": {
    "name": "ipython",
    "version": 3
   },
   "file_extension": ".py",
   "mimetype": "text/x-python",
   "name": "python",
   "nbconvert_exporter": "python",
   "pygments_lexer": "ipython3",
   "version": "3.9.7"
  }
 },
 "nbformat": 4,
 "nbformat_minor": 5
}
