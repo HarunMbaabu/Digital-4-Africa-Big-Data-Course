{
 "cells": [
  {
   "cell_type": "code",
   "execution_count": null,
   "id": "dab4f2cc",
   "metadata": {},
   "outputs": [],
   "source": [
    "varibale  \n",
    "\n"
   ]
  },
  {
   "cell_type": "code",
   "execution_count": null,
   "id": "f9da6221",
   "metadata": {},
   "outputs": [],
   "source": [
    "Indentifiers  "
   ]
  },
  {
   "cell_type": "code",
   "execution_count": null,
   "id": "2e0b5f44",
   "metadata": {},
   "outputs": [],
   "source": [
    "Keywords "
   ]
  },
  {
   "cell_type": "markdown",
   "id": "c193d0bb",
   "metadata": {},
   "source": []
  }
 ],
 "metadata": {
  "kernelspec": {
   "display_name": "Python 3 (ipykernel)",
   "language": "python",
   "name": "python3"
  },
  "language_info": {
   "codemirror_mode": {
    "name": "ipython",
    "version": 3
   },
   "file_extension": ".py",
   "mimetype": "text/x-python",
   "name": "python",
   "nbconvert_exporter": "python",
   "pygments_lexer": "ipython3",
   "version": "3.9.7"
  }
 },
 "nbformat": 4,
 "nbformat_minor": 5
}
