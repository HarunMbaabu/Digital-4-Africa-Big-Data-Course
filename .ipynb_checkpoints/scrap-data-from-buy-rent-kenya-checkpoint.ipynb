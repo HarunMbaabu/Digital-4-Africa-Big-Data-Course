{
 "cells": [
  {
   "cell_type": "markdown",
   "id": "4af0d5d3",
   "metadata": {
    "papermill": {
     "duration": 0.004524,
     "end_time": "2023-10-05T09:09:38.486883",
     "exception": false,
     "start_time": "2023-10-05T09:09:38.482359",
     "status": "completed"
    },
    "tags": []
   },
   "source": [
    "### **Data COllection- Data Scraping With BeautifulSoup.**\n",
    "\n",
    "The code below scraps rent and buy data from **BuyRentKenya,** https://www.buyrentkenya.com/ and saves th data in csv file which is later moved into MySQL database. "
   ]
  },
  {
   "cell_type": "markdown",
   "id": "1e3efd7f",
   "metadata": {
    "papermill": {
     "duration": 0.002754,
     "end_time": "2023-10-05T09:09:38.495631",
     "exception": false,
     "start_time": "2023-10-05T09:09:38.492877",
     "status": "completed"
    },
    "tags": []
   },
   "source": [
    "##### **IMport Necessary Packages.** \n",
    "- I hope you remember what python packages are and how to install them. For example if  wanted to use pandas i would use the command:\n",
    "\n",
    "```pip install pandas```"
   ]
  },
  {
   "cell_type": "code",
   "execution_count": 65,
   "id": "a1fb71c5",
   "metadata": {
    "execution": {
     "iopub.execute_input": "2023-10-05T09:09:38.503385Z",
     "iopub.status.busy": "2023-10-05T09:09:38.503032Z",
     "iopub.status.idle": "2023-10-05T09:09:38.750402Z",
     "shell.execute_reply": "2023-10-05T09:09:38.749156Z"
    },
    "papermill": {
     "duration": 0.254707,
     "end_time": "2023-10-05T09:09:38.753299",
     "exception": false,
     "start_time": "2023-10-05T09:09:38.498592",
     "status": "completed"
    },
    "tags": []
   },
   "outputs": [],
   "source": [
    "import csv\n",
    "import os\n",
    "import time\n",
    "import requests\n",
    "from bs4 import BeautifulSoup"
   ]
  },
  {
   "cell_type": "markdown",
   "id": "c32bd6cb",
   "metadata": {
    "papermill": {
     "duration": 0.00389,
     "end_time": "2023-10-05T09:09:38.762226",
     "exception": false,
     "start_time": "2023-10-05T09:09:38.758336",
     "status": "completed"
    },
    "tags": []
   },
   "source": [
    "#### **Access the URL from which we want to scrap data from.**\n",
    "- For this case we want to access houses for sale so we will specify when accessing the url.\n"
   ]
  },
  {
   "cell_type": "code",
   "execution_count": 66,
   "id": "ae2fb0b1",
   "metadata": {
    "execution": {
     "iopub.execute_input": "2023-10-05T09:09:38.771786Z",
     "iopub.status.busy": "2023-10-05T09:09:38.770454Z",
     "iopub.status.idle": "2023-10-05T09:09:38.777086Z",
     "shell.execute_reply": "2023-10-05T09:09:38.775921Z"
    },
    "papermill": {
     "duration": 0.013894,
     "end_time": "2023-10-05T09:09:38.779502",
     "exception": false,
     "start_time": "2023-10-05T09:09:38.765608",
     "status": "completed"
    },
    "tags": []
   },
   "outputs": [],
   "source": [
    "url_base = 'https://www.buyrentkenya.com/houses-for-sale?page='\n",
    "headers = {'User-Agent': 'Mozilla/5.0'}"
   ]
  },
  {
   "cell_type": "markdown",
   "id": "0fd776be",
   "metadata": {
    "papermill": {
     "duration": 0.002864,
     "end_time": "2023-10-05T09:09:38.785735",
     "exception": false,
     "start_time": "2023-10-05T09:09:38.782871",
     "status": "completed"
    },
    "tags": []
   },
   "source": [
    "**Define an emply object to store our data**"
   ]
  },
  {
   "cell_type": "code",
   "execution_count": 67,
   "id": "3d1f944a",
   "metadata": {
    "execution": {
     "iopub.execute_input": "2023-10-05T09:09:38.794167Z",
     "iopub.status.busy": "2023-10-05T09:09:38.792976Z",
     "iopub.status.idle": "2023-10-05T09:09:38.798481Z",
     "shell.execute_reply": "2023-10-05T09:09:38.797629Z"
    },
    "papermill": {
     "duration": 0.01184,
     "end_time": "2023-10-05T09:09:38.800544",
     "exception": false,
     "start_time": "2023-10-05T09:09:38.788704",
     "status": "completed"
    },
    "tags": []
   },
   "outputs": [],
   "source": [
    "houses_data = []"
   ]
  },
  {
   "cell_type": "markdown",
   "id": "5fed2b0e",
   "metadata": {
    "papermill": {
     "duration": 0.002432,
     "end_time": "2023-10-05T09:09:38.806034",
     "exception": false,
     "start_time": "2023-10-05T09:09:38.803602",
     "status": "completed"
    },
    "tags": []
   },
   "source": [
    "**Logic to scrap house title, location, size and prices**"
   ]
  },
  {
   "cell_type": "raw",
   "id": "3beb0e49",
   "metadata": {
    "_cell_guid": "b1076dfc-b9ad-4769-8c92-a6c4dae69d19",
    "_uuid": "8f2839f25d086af736a60e9eeb907d3b93b6e0e5",
    "papermill": {
     "duration": 0.002246,
     "end_time": "2023-10-05T09:09:38.810760",
     "exception": false,
     "start_time": "2023-10-05T09:09:38.808514",
     "status": "completed"
    },
    "tags": []
   },
   "source": [
    "for page in range(1, 125):\n",
    "    url = url_base + str(page)\n",
    "    response = requests.get(url, headers=headers)\n",
    "    soup = BeautifulSoup(response.content, 'html.parser')\n",
    "\n",
    "    listings = soup.find_all('div', class_='px-5') \n",
    "\n",
    "    for listing in listings:\n",
    "        title = listing.find('span', class_='hidden').text.strip()\n",
    "        location = listing.find('p', class_='text-sm').text.strip()\n",
    "        size = listing.find('a', class_='text-grey-500').text.strip() \n",
    "        price = listing.find('div', {'class': 'flex justify-between items-center'}).text.strip()\n",
    "\n",
    "        houses_data.append({'title': title, 'location': location, 'size': size, 'selling price': price})\n"
   ]
  },
  {
   "cell_type": "markdown",
   "id": "3ba8fdf5",
   "metadata": {
    "papermill": {
     "duration": 0.002274,
     "end_time": "2023-10-05T09:09:38.815465",
     "exception": false,
     "start_time": "2023-10-05T09:09:38.813191",
     "status": "completed"
    },
    "tags": []
   },
   "source": [
    "**Logic to save our data in csv file**\n",
    "- csv for comma seperated values, there are very many files formats, like parquate, excel, json, xml etc. Please do more reasearch on this "
   ]
  },
  {
   "cell_type": "code",
   "execution_count": 77,
   "id": "f10e279c",
   "metadata": {
    "execution": {
     "iopub.execute_input": "2023-10-05T09:09:38.823451Z",
     "iopub.status.busy": "2023-10-05T09:09:38.822067Z",
     "iopub.status.idle": "2023-10-05T09:09:38.829101Z",
     "shell.execute_reply": "2023-10-05T09:09:38.828353Z"
    },
    "papermill": {
     "duration": 0.0135,
     "end_time": "2023-10-05T09:09:38.831513",
     "exception": false,
     "start_time": "2023-10-05T09:09:38.818013",
     "status": "completed"
    },
    "tags": []
   },
   "outputs": [],
   "source": [
    "csv_file_path = 'data/houses-for-sale.csv'\n",
    "\n",
    "\n",
    "with open(csv_file_path, 'w', newline='', encoding='utf-8') as f:\n",
    "    csv_writer = csv.DictWriter(f, fieldnames=['title', 'location', 'size', 'selling price'])\n",
    "    csv_writer.writeheader()\n",
    "    csv_writer.writerows(houses_data)"
   ]
  },
  {
   "cell_type": "code",
   "execution_count": 78,
   "id": "b69fbd68",
   "metadata": {},
   "outputs": [
    {
     "data": {
      "application/javascript": [
       "\n",
       "        if (window._pyforest_update_imports_cell) { window._pyforest_update_imports_cell('import pandas as pd'); }\n",
       "    "
      ],
      "text/plain": [
       "<IPython.core.display.Javascript object>"
      ]
     },
     "metadata": {},
     "output_type": "display_data"
    }
   ],
   "source": [
    "df  = pd.read_csv(\"data/houses-for-sale.csv\")"
   ]
  },
  {
   "cell_type": "code",
   "execution_count": 79,
   "id": "c5370d01",
   "metadata": {},
   "outputs": [
    {
     "data": {
      "text/html": [
       "<div>\n",
       "<style scoped>\n",
       "    .dataframe tbody tr th:only-of-type {\n",
       "        vertical-align: middle;\n",
       "    }\n",
       "\n",
       "    .dataframe tbody tr th {\n",
       "        vertical-align: top;\n",
       "    }\n",
       "\n",
       "    .dataframe thead th {\n",
       "        text-align: right;\n",
       "    }\n",
       "</style>\n",
       "<table border=\"1\" class=\"dataframe\">\n",
       "  <thead>\n",
       "    <tr style=\"text-align: right;\">\n",
       "      <th></th>\n",
       "      <th>title</th>\n",
       "      <th>location</th>\n",
       "      <th>size</th>\n",
       "      <th>selling price</th>\n",
       "    </tr>\n",
       "  </thead>\n",
       "  <tbody>\n",
       "  </tbody>\n",
       "</table>\n",
       "</div>"
      ],
      "text/plain": [
       "Empty DataFrame\n",
       "Columns: [title, location, size, selling price]\n",
       "Index: []"
      ]
     },
     "execution_count": 79,
     "metadata": {},
     "output_type": "execute_result"
    }
   ],
   "source": [
    "df.head(20)"
   ]
  },
  {
   "cell_type": "markdown",
   "id": "36dfaa7b",
   "metadata": {
    "papermill": {
     "duration": 0.00248,
     "end_time": "2023-10-05T09:09:38.837105",
     "exception": false,
     "start_time": "2023-10-05T09:09:38.834625",
     "status": "completed"
    },
    "tags": []
   },
   "source": [
    "**Logic to copy data from our csv file into MySQL database**"
   ]
  },
  {
   "cell_type": "code",
   "execution_count": 71,
   "id": "8715b634",
   "metadata": {},
   "outputs": [
    {
     "name": "stdout",
     "output_type": "stream",
     "text": [
      "Requirement already satisfied: mysql-connector-python in /home/grayhat/anaconda3/lib/python3.9/site-packages (8.1.0)\r\n",
      "Requirement already satisfied: protobuf<=4.21.12,>=4.21.1 in /home/grayhat/anaconda3/lib/python3.9/site-packages (from mysql-connector-python) (4.21.12)\r\n"
     ]
    }
   ],
   "source": [
    "!pip install mysql-connector-python\n"
   ]
  },
  {
   "cell_type": "code",
   "execution_count": 72,
   "id": "fb8dcce9",
   "metadata": {},
   "outputs": [],
   "source": [
    "import mysql.connector\n",
    "\n",
    "connection = mysql.connector.connect(\n",
    "    host='127.0.0.1',\n",
    "    user='root',\n",
    "    password='33812040Abc#',\n",
    "    database='housedata'\n",
    ")"
   ]
  },
  {
   "cell_type": "code",
   "execution_count": 73,
   "id": "70276090",
   "metadata": {},
   "outputs": [],
   "source": [
    "cursor = connection.cursor()"
   ]
  },
  {
   "cell_type": "code",
   "execution_count": 74,
   "id": "a831e449",
   "metadata": {},
   "outputs": [],
   "source": [
    "cursor.execute('CREATE TABLE IF NOT EXISTS houses (title VARCHAR(255), location VARCHAR(255), size VARCHAR(500), selling_price DECIMAL(10,2));')"
   ]
  },
  {
   "cell_type": "code",
   "execution_count": 75,
   "id": "9f06df51",
   "metadata": {},
   "outputs": [
    {
     "ename": "DatabaseError",
     "evalue": "1366 (HY000): Incorrect integer value: 'size' for column 'size' at row 1",
     "output_type": "error",
     "traceback": [
      "\u001b[0;31m---------------------------------------------------------------------------\u001b[0m",
      "\u001b[0;31mMySQLInterfaceError\u001b[0m                       Traceback (most recent call last)",
      "\u001b[0;32m~/anaconda3/lib/python3.9/site-packages/mysql/connector/connection_cext.py\u001b[0m in \u001b[0;36mcmd_query\u001b[0;34m(self, query, raw, buffered, raw_as_string)\u001b[0m\n\u001b[1;32m    632\u001b[0m                 \u001b[0mquery\u001b[0m \u001b[0;34m=\u001b[0m \u001b[0mquery\u001b[0m\u001b[0;34m.\u001b[0m\u001b[0mencode\u001b[0m\u001b[0;34m(\u001b[0m\u001b[0;34m\"utf-8\"\u001b[0m\u001b[0;34m)\u001b[0m\u001b[0;34m\u001b[0m\u001b[0;34m\u001b[0m\u001b[0m\n\u001b[0;32m--> 633\u001b[0;31m             self._cmysql.query(\n\u001b[0m\u001b[1;32m    634\u001b[0m                 \u001b[0mquery\u001b[0m\u001b[0;34m,\u001b[0m\u001b[0;34m\u001b[0m\u001b[0;34m\u001b[0m\u001b[0m\n",
      "\u001b[0;31mMySQLInterfaceError\u001b[0m: Incorrect integer value: 'size' for column 'size' at row 1",
      "\nThe above exception was the direct cause of the following exception:\n",
      "\u001b[0;31mDatabaseError\u001b[0m                             Traceback (most recent call last)",
      "\u001b[0;32m/tmp/ipykernel_58663/3195621263.py\u001b[0m in \u001b[0;36m<module>\u001b[0;34m\u001b[0m\n\u001b[1;32m      5\u001b[0m \u001b[0;34m\u001b[0m\u001b[0m\n\u001b[1;32m      6\u001b[0m     \u001b[0;32mfor\u001b[0m \u001b[0mrow\u001b[0m \u001b[0;32min\u001b[0m \u001b[0mcsv_reader\u001b[0m\u001b[0;34m:\u001b[0m\u001b[0;34m\u001b[0m\u001b[0;34m\u001b[0m\u001b[0m\n\u001b[0;32m----> 7\u001b[0;31m         \u001b[0mcursor\u001b[0m\u001b[0;34m.\u001b[0m\u001b[0mexecute\u001b[0m\u001b[0;34m(\u001b[0m\u001b[0;34m'INSERT INTO houses (title, location, size, selling_price) VALUES (%s, %s, %s, %s)'\u001b[0m\u001b[0;34m,\u001b[0m \u001b[0mrow\u001b[0m\u001b[0;34m)\u001b[0m\u001b[0;34m\u001b[0m\u001b[0;34m\u001b[0m\u001b[0m\n\u001b[0m",
      "\u001b[0;32m~/anaconda3/lib/python3.9/site-packages/mysql/connector/cursor_cext.py\u001b[0m in \u001b[0;36mexecute\u001b[0;34m(self, operation, params, multi)\u001b[0m\n\u001b[1;32m    328\u001b[0m \u001b[0;34m\u001b[0m\u001b[0m\n\u001b[1;32m    329\u001b[0m         \u001b[0;32mtry\u001b[0m\u001b[0;34m:\u001b[0m\u001b[0;34m\u001b[0m\u001b[0;34m\u001b[0m\u001b[0m\n\u001b[0;32m--> 330\u001b[0;31m             result = self._cnx.cmd_query(\n\u001b[0m\u001b[1;32m    331\u001b[0m                 \u001b[0mstmt\u001b[0m\u001b[0;34m,\u001b[0m\u001b[0;34m\u001b[0m\u001b[0;34m\u001b[0m\u001b[0m\n\u001b[1;32m    332\u001b[0m                 \u001b[0mraw\u001b[0m\u001b[0;34m=\u001b[0m\u001b[0mself\u001b[0m\u001b[0;34m.\u001b[0m\u001b[0m_raw\u001b[0m\u001b[0;34m,\u001b[0m\u001b[0;34m\u001b[0m\u001b[0;34m\u001b[0m\u001b[0m\n",
      "\u001b[0;32m~/anaconda3/lib/python3.9/site-packages/mysql/connector/opentelemetry/context_propagation.py\u001b[0m in \u001b[0;36mwrapper\u001b[0;34m(cnx, *args, **kwargs)\u001b[0m\n\u001b[1;32m     75\u001b[0m         \u001b[0;34m\"\"\"Context propagation decorator.\"\"\"\u001b[0m\u001b[0;34m\u001b[0m\u001b[0;34m\u001b[0m\u001b[0m\n\u001b[1;32m     76\u001b[0m         \u001b[0;32mif\u001b[0m \u001b[0;32mnot\u001b[0m \u001b[0mOTEL_ENABLED\u001b[0m \u001b[0;32mor\u001b[0m \u001b[0;32mnot\u001b[0m \u001b[0mcnx\u001b[0m\u001b[0;34m.\u001b[0m\u001b[0motel_context_propagation\u001b[0m\u001b[0;34m:\u001b[0m\u001b[0;34m\u001b[0m\u001b[0;34m\u001b[0m\u001b[0m\n\u001b[0;32m---> 77\u001b[0;31m             \u001b[0;32mreturn\u001b[0m \u001b[0mmethod\u001b[0m\u001b[0;34m(\u001b[0m\u001b[0mcnx\u001b[0m\u001b[0;34m,\u001b[0m \u001b[0;34m*\u001b[0m\u001b[0margs\u001b[0m\u001b[0;34m,\u001b[0m \u001b[0;34m**\u001b[0m\u001b[0mkwargs\u001b[0m\u001b[0;34m)\u001b[0m\u001b[0;34m\u001b[0m\u001b[0;34m\u001b[0m\u001b[0m\n\u001b[0m\u001b[1;32m     78\u001b[0m \u001b[0;34m\u001b[0m\u001b[0m\n\u001b[1;32m     79\u001b[0m         \u001b[0mcurrent_span\u001b[0m \u001b[0;34m=\u001b[0m \u001b[0mtrace\u001b[0m\u001b[0;34m.\u001b[0m\u001b[0mget_current_span\u001b[0m\u001b[0;34m(\u001b[0m\u001b[0;34m)\u001b[0m\u001b[0;34m\u001b[0m\u001b[0;34m\u001b[0m\u001b[0m\n",
      "\u001b[0;32m~/anaconda3/lib/python3.9/site-packages/mysql/connector/connection_cext.py\u001b[0m in \u001b[0;36mcmd_query\u001b[0;34m(self, query, raw, buffered, raw_as_string)\u001b[0m\n\u001b[1;32m    639\u001b[0m             )\n\u001b[1;32m    640\u001b[0m         \u001b[0;32mexcept\u001b[0m \u001b[0mMySQLInterfaceError\u001b[0m \u001b[0;32mas\u001b[0m \u001b[0merr\u001b[0m\u001b[0;34m:\u001b[0m\u001b[0;34m\u001b[0m\u001b[0;34m\u001b[0m\u001b[0m\n\u001b[0;32m--> 641\u001b[0;31m             raise get_mysql_exception(\n\u001b[0m\u001b[1;32m    642\u001b[0m                 \u001b[0merr\u001b[0m\u001b[0;34m.\u001b[0m\u001b[0merrno\u001b[0m\u001b[0;34m,\u001b[0m \u001b[0mmsg\u001b[0m\u001b[0;34m=\u001b[0m\u001b[0merr\u001b[0m\u001b[0;34m.\u001b[0m\u001b[0mmsg\u001b[0m\u001b[0;34m,\u001b[0m \u001b[0msqlstate\u001b[0m\u001b[0;34m=\u001b[0m\u001b[0merr\u001b[0m\u001b[0;34m.\u001b[0m\u001b[0msqlstate\u001b[0m\u001b[0;34m\u001b[0m\u001b[0;34m\u001b[0m\u001b[0m\n\u001b[1;32m    643\u001b[0m             ) from err\n",
      "\u001b[0;31mDatabaseError\u001b[0m: 1366 (HY000): Incorrect integer value: 'size' for column 'size' at row 1"
     ]
    }
   ],
   "source": [
    "with open('data/houses-for-sale.csv', 'r') as csv_file:\n",
    "    csv_reader = csv.reader(csv_file)\n",
    "    \n",
    "    \n",
    "    \n",
    "    for row in csv_reader: \n",
    "        cursor.execute('INSERT INTO houses (title, location, size, selling_price) VALUES (%s, %s, %s, %s)', row)"
   ]
  },
  {
   "cell_type": "code",
   "execution_count": null,
   "id": "66622dc7",
   "metadata": {},
   "outputs": [],
   "source": [
    "connection.commit()"
   ]
  },
  {
   "cell_type": "code",
   "execution_count": null,
   "id": "7fa4eec3",
   "metadata": {},
   "outputs": [],
   "source": [
    "cursor.close()\n",
    "connection.close()"
   ]
  }
 ],
 "metadata": {
  "kernelspec": {
   "display_name": "Python 3 (ipykernel)",
   "language": "python",
   "name": "python3"
  },
  "language_info": {
   "codemirror_mode": {
    "name": "ipython",
    "version": 3
   },
   "file_extension": ".py",
   "mimetype": "text/x-python",
   "name": "python",
   "nbconvert_exporter": "python",
   "pygments_lexer": "ipython3",
   "version": "3.9.7"
  },
  "papermill": {
   "default_parameters": {},
   "duration": 4.050718,
   "end_time": "2023-10-05T09:09:39.361883",
   "environment_variables": {},
   "exception": null,
   "input_path": "__notebook__.ipynb",
   "output_path": "__notebook__.ipynb",
   "parameters": {},
   "start_time": "2023-10-05T09:09:35.311165",
   "version": "2.4.0"
  }
 },
 "nbformat": 4,
 "nbformat_minor": 5
}
