{
 "cells": [
  {
   "cell_type": "code",
   "execution_count": 4,
   "id": "3e6dec9b",
   "metadata": {},
   "outputs": [],
   "source": [
    "import pandas as  pd\n",
    "\n",
    "\n",
    "data  = pd.read_csv(\"data/houses-for-sale (1).csv\")"
   ]
  },
  {
   "cell_type": "code",
   "execution_count": 2,
   "id": "cf8f1859",
   "metadata": {},
   "outputs": [
    {
     "data": {
      "text/html": [
       "<div>\n",
       "<style scoped>\n",
       "    .dataframe tbody tr th:only-of-type {\n",
       "        vertical-align: middle;\n",
       "    }\n",
       "\n",
       "    .dataframe tbody tr th {\n",
       "        vertical-align: top;\n",
       "    }\n",
       "\n",
       "    .dataframe thead th {\n",
       "        text-align: right;\n",
       "    }\n",
       "</style>\n",
       "<table border=\"1\" class=\"dataframe\">\n",
       "  <thead>\n",
       "    <tr style=\"text-align: right;\">\n",
       "      <th></th>\n",
       "      <th>title</th>\n",
       "      <th>location</th>\n",
       "      <th>size</th>\n",
       "      <th>selling price</th>\n",
       "    </tr>\n",
       "  </thead>\n",
       "  <tbody>\n",
       "    <tr>\n",
       "      <th>0</th>\n",
       "      <td>6 Bed Villa with En Suite at Kiambu Road</td>\n",
       "      <td>Kiambu Road</td>\n",
       "      <td>6bdrm Mansion in Mushroom Estate, Kiambu / Kia...</td>\n",
       "      <td>KSh 130,000,000</td>\n",
       "    </tr>\n",
       "    <tr>\n",
       "      <th>1</th>\n",
       "      <td>4 Bed Townhouse with En Suite at Off Kiambu Road</td>\n",
       "      <td>Off Kiambu Road, Kiambu Road</td>\n",
       "      <td>4 Bedroom with DSQ for Sale</td>\n",
       "      <td>KSh 26,950,000</td>\n",
       "    </tr>\n",
       "    <tr>\n",
       "      <th>2</th>\n",
       "      <td>4 Bed Villa with En Suite at Masai Lodge Road</td>\n",
       "      <td>masai lodge road, Ongata Rongai</td>\n",
       "      <td>New modern villa for sale.</td>\n",
       "      <td>KSh 16,000,000</td>\n",
       "    </tr>\n",
       "    <tr>\n",
       "      <th>3</th>\n",
       "      <td>5 Bed House with En Suite in Ngong Road</td>\n",
       "      <td>Ngong Road</td>\n",
       "      <td>5 Bedroom Town House For Sale In Kilimani</td>\n",
       "      <td>KSh 45,000,000</td>\n",
       "    </tr>\n",
       "    <tr>\n",
       "      <th>4</th>\n",
       "      <td>5 Bed Townhouse with En Suite in Lavington</td>\n",
       "      <td>Lavington</td>\n",
       "      <td>Modern 5 Bedroom Townhouse For Sale</td>\n",
       "      <td>KSh 72,000,000</td>\n",
       "    </tr>\n",
       "  </tbody>\n",
       "</table>\n",
       "</div>"
      ],
      "text/plain": [
       "                                              title  \\\n",
       "0          6 Bed Villa with En Suite at Kiambu Road   \n",
       "1  4 Bed Townhouse with En Suite at Off Kiambu Road   \n",
       "2     4 Bed Villa with En Suite at Masai Lodge Road   \n",
       "3           5 Bed House with En Suite in Ngong Road   \n",
       "4        5 Bed Townhouse with En Suite in Lavington   \n",
       "\n",
       "                          location  \\\n",
       "0                      Kiambu Road   \n",
       "1     Off Kiambu Road, Kiambu Road   \n",
       "2  masai lodge road, Ongata Rongai   \n",
       "3                       Ngong Road   \n",
       "4                        Lavington   \n",
       "\n",
       "                                                size    selling price  \n",
       "0  6bdrm Mansion in Mushroom Estate, Kiambu / Kia...  KSh 130,000,000  \n",
       "1                        4 Bedroom with DSQ for Sale   KSh 26,950,000  \n",
       "2                         New modern villa for sale.   KSh 16,000,000  \n",
       "3          5 Bedroom Town House For Sale In Kilimani   KSh 45,000,000  \n",
       "4                Modern 5 Bedroom Townhouse For Sale   KSh 72,000,000  "
      ]
     },
     "execution_count": 2,
     "metadata": {},
     "output_type": "execute_result"
    }
   ],
   "source": [
    "data.head()"
   ]
  },
  {
   "cell_type": "code",
   "execution_count": 6,
   "id": "85b17684",
   "metadata": {},
   "outputs": [
    {
     "data": {
      "text/html": [
       "<div>\n",
       "<style scoped>\n",
       "    .dataframe tbody tr th:only-of-type {\n",
       "        vertical-align: middle;\n",
       "    }\n",
       "\n",
       "    .dataframe tbody tr th {\n",
       "        vertical-align: top;\n",
       "    }\n",
       "\n",
       "    .dataframe thead th {\n",
       "        text-align: right;\n",
       "    }\n",
       "</style>\n",
       "<table border=\"1\" class=\"dataframe\">\n",
       "  <thead>\n",
       "    <tr style=\"text-align: right;\">\n",
       "      <th></th>\n",
       "      <th>title</th>\n",
       "      <th>location</th>\n",
       "      <th>size</th>\n",
       "      <th>selling price</th>\n",
       "    </tr>\n",
       "  </thead>\n",
       "  <tbody>\n",
       "    <tr>\n",
       "      <th>0</th>\n",
       "      <td>6 Bed Villa with En Suite at Kiambu Road</td>\n",
       "      <td>Kiambu Road</td>\n",
       "      <td>6bdrm Mansion in Mushroom Estate, Kiambu / Kia...</td>\n",
       "      <td>KSh 130,000,000</td>\n",
       "    </tr>\n",
       "    <tr>\n",
       "      <th>1</th>\n",
       "      <td>4 Bed Townhouse with En Suite at Off Kiambu Road</td>\n",
       "      <td>Off Kiambu Road, Kiambu Road</td>\n",
       "      <td>4 Bedroom with DSQ for Sale</td>\n",
       "      <td>KSh 26,950,000</td>\n",
       "    </tr>\n",
       "    <tr>\n",
       "      <th>2</th>\n",
       "      <td>4 Bed Villa with En Suite at Masai Lodge Road</td>\n",
       "      <td>masai lodge road, Ongata Rongai</td>\n",
       "      <td>New modern villa for sale.</td>\n",
       "      <td>KSh 16,000,000</td>\n",
       "    </tr>\n",
       "    <tr>\n",
       "      <th>3</th>\n",
       "      <td>5 Bed House with En Suite in Ngong Road</td>\n",
       "      <td>Ngong Road</td>\n",
       "      <td>5 Bedroom Town House For Sale In Kilimani</td>\n",
       "      <td>KSh 45,000,000</td>\n",
       "    </tr>\n",
       "    <tr>\n",
       "      <th>4</th>\n",
       "      <td>5 Bed Townhouse with En Suite in Lavington</td>\n",
       "      <td>Lavington</td>\n",
       "      <td>Modern 5 Bedroom Townhouse For Sale</td>\n",
       "      <td>KSh 72,000,000</td>\n",
       "    </tr>\n",
       "  </tbody>\n",
       "</table>\n",
       "</div>"
      ],
      "text/plain": [
       "                                              title  \\\n",
       "0          6 Bed Villa with En Suite at Kiambu Road   \n",
       "1  4 Bed Townhouse with En Suite at Off Kiambu Road   \n",
       "2     4 Bed Villa with En Suite at Masai Lodge Road   \n",
       "3           5 Bed House with En Suite in Ngong Road   \n",
       "4        5 Bed Townhouse with En Suite in Lavington   \n",
       "\n",
       "                          location  \\\n",
       "0                      Kiambu Road   \n",
       "1     Off Kiambu Road, Kiambu Road   \n",
       "2  masai lodge road, Ongata Rongai   \n",
       "3                       Ngong Road   \n",
       "4                        Lavington   \n",
       "\n",
       "                                                size    selling price  \n",
       "0  6bdrm Mansion in Mushroom Estate, Kiambu / Kia...  KSh 130,000,000  \n",
       "1                        4 Bedroom with DSQ for Sale   KSh 26,950,000  \n",
       "2                         New modern villa for sale.   KSh 16,000,000  \n",
       "3          5 Bedroom Town House For Sale In Kilimani   KSh 45,000,000  \n",
       "4                Modern 5 Bedroom Townhouse For Sale   KSh 72,000,000  "
      ]
     },
     "execution_count": 6,
     "metadata": {},
     "output_type": "execute_result"
    }
   ],
   "source": [
    "data.head()"
   ]
  },
  {
   "cell_type": "code",
   "execution_count": 7,
   "id": "b8d4e40f",
   "metadata": {},
   "outputs": [
    {
     "data": {
      "text/html": [
       "<div>\n",
       "<style scoped>\n",
       "    .dataframe tbody tr th:only-of-type {\n",
       "        vertical-align: middle;\n",
       "    }\n",
       "\n",
       "    .dataframe tbody tr th {\n",
       "        vertical-align: top;\n",
       "    }\n",
       "\n",
       "    .dataframe thead th {\n",
       "        text-align: right;\n",
       "    }\n",
       "</style>\n",
       "<table border=\"1\" class=\"dataframe\">\n",
       "  <thead>\n",
       "    <tr style=\"text-align: right;\">\n",
       "      <th></th>\n",
       "      <th>title</th>\n",
       "      <th>location</th>\n",
       "      <th>size</th>\n",
       "      <th>selling price</th>\n",
       "    </tr>\n",
       "  </thead>\n",
       "  <tbody>\n",
       "    <tr>\n",
       "      <th>1871</th>\n",
       "      <td>5 Bed House with En Suite at Nandi Road</td>\n",
       "      <td>Nandi road, Karen</td>\n",
       "      <td>5 BEDROOM HOUSE FOR SALE IN KAREN NAIROBI KENYA</td>\n",
       "      <td>KSh 199,000,000</td>\n",
       "    </tr>\n",
       "    <tr>\n",
       "      <th>1872</th>\n",
       "      <td>4 Bed House with En Suite in Kitengela</td>\n",
       "      <td>Kitengela</td>\n",
       "      <td>4 Bedroom Maisonette for Sale in Kitengela EPZ...</td>\n",
       "      <td>KSh 16,000,000</td>\n",
       "    </tr>\n",
       "    <tr>\n",
       "      <th>1873</th>\n",
       "      <td>4 Bed House with En Suite in Syokimau</td>\n",
       "      <td>Syokimau</td>\n",
       "      <td>4 BEDROOMS MAISONETTE IN SYOKIMAU.</td>\n",
       "      <td>KSh 13,800,000</td>\n",
       "    </tr>\n",
       "    <tr>\n",
       "      <th>1874</th>\n",
       "      <td>4 Bed Townhouse with Garden in Lavington</td>\n",
       "      <td>Lavington</td>\n",
       "      <td>4 bedroom townhouse for sale in Lavington</td>\n",
       "      <td>KSh 79,000,000</td>\n",
       "    </tr>\n",
       "    <tr>\n",
       "      <th>1875</th>\n",
       "      <td>3 Bed House with En Suite at Kimbo Matangi</td>\n",
       "      <td>Kimbo Matangi, Ruiru</td>\n",
       "      <td>READY AFFORDABLE BUNGALOWS ON OFFER</td>\n",
       "      <td>KSh 7,800,000</td>\n",
       "    </tr>\n",
       "  </tbody>\n",
       "</table>\n",
       "</div>"
      ],
      "text/plain": [
       "                                           title              location  \\\n",
       "1871     5 Bed House with En Suite at Nandi Road     Nandi road, Karen   \n",
       "1872      4 Bed House with En Suite in Kitengela             Kitengela   \n",
       "1873       4 Bed House with En Suite in Syokimau              Syokimau   \n",
       "1874    4 Bed Townhouse with Garden in Lavington             Lavington   \n",
       "1875  3 Bed House with En Suite at Kimbo Matangi  Kimbo Matangi, Ruiru   \n",
       "\n",
       "                                                   size    selling price  \n",
       "1871    5 BEDROOM HOUSE FOR SALE IN KAREN NAIROBI KENYA  KSh 199,000,000  \n",
       "1872  4 Bedroom Maisonette for Sale in Kitengela EPZ...   KSh 16,000,000  \n",
       "1873                 4 BEDROOMS MAISONETTE IN SYOKIMAU.   KSh 13,800,000  \n",
       "1874          4 bedroom townhouse for sale in Lavington   KSh 79,000,000  \n",
       "1875                READY AFFORDABLE BUNGALOWS ON OFFER    KSh 7,800,000  "
      ]
     },
     "execution_count": 7,
     "metadata": {},
     "output_type": "execute_result"
    }
   ],
   "source": [
    "data.tail()"
   ]
  },
  {
   "cell_type": "code",
   "execution_count": 9,
   "id": "fc2cfc12",
   "metadata": {},
   "outputs": [
    {
     "data": {
      "text/plain": [
       "(1876, 4)"
      ]
     },
     "execution_count": 9,
     "metadata": {},
     "output_type": "execute_result"
    }
   ],
   "source": [
    "data.shape"
   ]
  },
  {
   "cell_type": "code",
   "execution_count": 10,
   "id": "002cfc01",
   "metadata": {},
   "outputs": [
    {
     "data": {
      "text/html": [
       "<div>\n",
       "<style scoped>\n",
       "    .dataframe tbody tr th:only-of-type {\n",
       "        vertical-align: middle;\n",
       "    }\n",
       "\n",
       "    .dataframe tbody tr th {\n",
       "        vertical-align: top;\n",
       "    }\n",
       "\n",
       "    .dataframe thead th {\n",
       "        text-align: right;\n",
       "    }\n",
       "</style>\n",
       "<table border=\"1\" class=\"dataframe\">\n",
       "  <thead>\n",
       "    <tr style=\"text-align: right;\">\n",
       "      <th></th>\n",
       "      <th>title</th>\n",
       "      <th>location</th>\n",
       "      <th>size</th>\n",
       "      <th>selling price</th>\n",
       "    </tr>\n",
       "  </thead>\n",
       "  <tbody>\n",
       "    <tr>\n",
       "      <th>count</th>\n",
       "      <td>1876</td>\n",
       "      <td>1876</td>\n",
       "      <td>1876</td>\n",
       "      <td>1876</td>\n",
       "    </tr>\n",
       "    <tr>\n",
       "      <th>unique</th>\n",
       "      <td>1164</td>\n",
       "      <td>710</td>\n",
       "      <td>1770</td>\n",
       "      <td>293</td>\n",
       "    </tr>\n",
       "    <tr>\n",
       "      <th>top</th>\n",
       "      <td>5 Bed Townhouse with En Suite in Lavington</td>\n",
       "      <td>Lavington</td>\n",
       "      <td>5 BEDROOM HOUSE FOR SALE IN KAREN NAIROBI KENYA</td>\n",
       "      <td>KSh 65,000,000</td>\n",
       "    </tr>\n",
       "    <tr>\n",
       "      <th>freq</th>\n",
       "      <td>45</td>\n",
       "      <td>150</td>\n",
       "      <td>8</td>\n",
       "      <td>48</td>\n",
       "    </tr>\n",
       "  </tbody>\n",
       "</table>\n",
       "</div>"
      ],
      "text/plain": [
       "                                             title   location  \\\n",
       "count                                         1876       1876   \n",
       "unique                                        1164        710   \n",
       "top     5 Bed Townhouse with En Suite in Lavington  Lavington   \n",
       "freq                                            45        150   \n",
       "\n",
       "                                                   size   selling price  \n",
       "count                                              1876            1876  \n",
       "unique                                             1770             293  \n",
       "top     5 BEDROOM HOUSE FOR SALE IN KAREN NAIROBI KENYA  KSh 65,000,000  \n",
       "freq                                                  8              48  "
      ]
     },
     "execution_count": 10,
     "metadata": {},
     "output_type": "execute_result"
    }
   ],
   "source": [
    "data.describe()"
   ]
  },
  {
   "cell_type": "code",
   "execution_count": 12,
   "id": "b560830f",
   "metadata": {},
   "outputs": [
    {
     "data": {
      "text/plain": [
       "title            0\n",
       "location         0\n",
       "size             0\n",
       "selling price    0\n",
       "dtype: int64"
      ]
     },
     "execution_count": 12,
     "metadata": {},
     "output_type": "execute_result"
    }
   ],
   "source": [
    "data.isna().sum()\n",
    "\n",
    "data."
   ]
  }
 ],
 "metadata": {
  "kernelspec": {
   "display_name": "Python 3 (ipykernel)",
   "language": "python",
   "name": "python3"
  },
  "language_info": {
   "codemirror_mode": {
    "name": "ipython",
    "version": 3
   },
   "file_extension": ".py",
   "mimetype": "text/x-python",
   "name": "python",
   "nbconvert_exporter": "python",
   "pygments_lexer": "ipython3",
   "version": "3.9.7"
  }
 },
 "nbformat": 4,
 "nbformat_minor": 5
}
