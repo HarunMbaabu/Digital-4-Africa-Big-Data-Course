{
 "cells": [
  {
   "cell_type": "code",
   "execution_count": 1,
   "id": "10fdec2a",
   "metadata": {},
   "outputs": [],
   "source": [
    "import pandas as pd"
   ]
  },
  {
   "cell_type": "code",
   "execution_count": 2,
   "id": "4d487fd7",
   "metadata": {},
   "outputs": [],
   "source": [
    "data = pd.read_csv(\"data/houses-for-sale.csv\")"
   ]
  },
  {
   "cell_type": "code",
   "execution_count": 3,
   "id": "dca7f2bd",
   "metadata": {
    "scrolled": true
   },
   "outputs": [
    {
     "data": {
      "text/html": [
       "<div>\n",
       "<style scoped>\n",
       "    .dataframe tbody tr th:only-of-type {\n",
       "        vertical-align: middle;\n",
       "    }\n",
       "\n",
       "    .dataframe tbody tr th {\n",
       "        vertical-align: top;\n",
       "    }\n",
       "\n",
       "    .dataframe thead th {\n",
       "        text-align: right;\n",
       "    }\n",
       "</style>\n",
       "<table border=\"1\" class=\"dataframe\">\n",
       "  <thead>\n",
       "    <tr style=\"text-align: right;\">\n",
       "      <th></th>\n",
       "      <th>title</th>\n",
       "      <th>location</th>\n",
       "      <th>size</th>\n",
       "      <th>selling price</th>\n",
       "    </tr>\n",
       "  </thead>\n",
       "  <tbody>\n",
       "    <tr>\n",
       "      <th>0</th>\n",
       "      <td>6 Bed Villa with En Suite at Kiambu Road</td>\n",
       "      <td>Kiambu Road</td>\n",
       "      <td>6bdrm Mansion in Mushroom Estate, Kiambu / Kia...</td>\n",
       "      <td>KSh 130,000,000</td>\n",
       "    </tr>\n",
       "    <tr>\n",
       "      <th>1</th>\n",
       "      <td>4 Bed Townhouse with En Suite at Off Kiambu Road</td>\n",
       "      <td>Off Kiambu Road, Kiambu Road</td>\n",
       "      <td>4 Bedroom with DSQ for Sale</td>\n",
       "      <td>KSh 26,950,000</td>\n",
       "    </tr>\n",
       "    <tr>\n",
       "      <th>2</th>\n",
       "      <td>4 Bed Villa with En Suite at Masai Lodge Road</td>\n",
       "      <td>masai lodge road, Ongata Rongai</td>\n",
       "      <td>New modern villa for sale.</td>\n",
       "      <td>KSh 16,000,000</td>\n",
       "    </tr>\n",
       "    <tr>\n",
       "      <th>3</th>\n",
       "      <td>5 Bed House with En Suite in Ngong Road</td>\n",
       "      <td>Ngong Road</td>\n",
       "      <td>5 Bedroom Town House For Sale In Kilimani</td>\n",
       "      <td>KSh 45,000,000</td>\n",
       "    </tr>\n",
       "    <tr>\n",
       "      <th>4</th>\n",
       "      <td>5 Bed Townhouse with En Suite in Lavington</td>\n",
       "      <td>Lavington</td>\n",
       "      <td>Modern 5 Bedroom Townhouse For Sale</td>\n",
       "      <td>KSh 72,000,000</td>\n",
       "    </tr>\n",
       "  </tbody>\n",
       "</table>\n",
       "</div>"
      ],
      "text/plain": [
       "                                              title  \\\n",
       "0          6 Bed Villa with En Suite at Kiambu Road   \n",
       "1  4 Bed Townhouse with En Suite at Off Kiambu Road   \n",
       "2     4 Bed Villa with En Suite at Masai Lodge Road   \n",
       "3           5 Bed House with En Suite in Ngong Road   \n",
       "4        5 Bed Townhouse with En Suite in Lavington   \n",
       "\n",
       "                          location  \\\n",
       "0                      Kiambu Road   \n",
       "1     Off Kiambu Road, Kiambu Road   \n",
       "2  masai lodge road, Ongata Rongai   \n",
       "3                       Ngong Road   \n",
       "4                        Lavington   \n",
       "\n",
       "                                                size    selling price  \n",
       "0  6bdrm Mansion in Mushroom Estate, Kiambu / Kia...  KSh 130,000,000  \n",
       "1                        4 Bedroom with DSQ for Sale   KSh 26,950,000  \n",
       "2                         New modern villa for sale.   KSh 16,000,000  \n",
       "3          5 Bedroom Town House For Sale In Kilimani   KSh 45,000,000  \n",
       "4                Modern 5 Bedroom Townhouse For Sale   KSh 72,000,000  "
      ]
     },
     "execution_count": 3,
     "metadata": {},
     "output_type": "execute_result"
    }
   ],
   "source": [
    "data.head()"
   ]
  },
  {
   "cell_type": "code",
   "execution_count": 4,
   "id": "6efdccc2",
   "metadata": {},
   "outputs": [],
   "source": [
    "\n",
    "data['selling price'] = pd.to_numeric(data['selling price'].str.replace('KSh', '').str.replace(',', ''), errors='coerce')\n"
   ]
  },
  {
   "cell_type": "code",
   "execution_count": 5,
   "id": "454489ee",
   "metadata": {},
   "outputs": [
    {
     "data": {
      "text/html": [
       "<div>\n",
       "<style scoped>\n",
       "    .dataframe tbody tr th:only-of-type {\n",
       "        vertical-align: middle;\n",
       "    }\n",
       "\n",
       "    .dataframe tbody tr th {\n",
       "        vertical-align: top;\n",
       "    }\n",
       "\n",
       "    .dataframe thead th {\n",
       "        text-align: right;\n",
       "    }\n",
       "</style>\n",
       "<table border=\"1\" class=\"dataframe\">\n",
       "  <thead>\n",
       "    <tr style=\"text-align: right;\">\n",
       "      <th></th>\n",
       "      <th>title</th>\n",
       "      <th>location</th>\n",
       "      <th>size</th>\n",
       "      <th>selling price</th>\n",
       "    </tr>\n",
       "  </thead>\n",
       "  <tbody>\n",
       "    <tr>\n",
       "      <th>0</th>\n",
       "      <td>6 Bed Villa with En Suite at Kiambu Road</td>\n",
       "      <td>Kiambu Road</td>\n",
       "      <td>6bdrm Mansion in Mushroom Estate, Kiambu / Kia...</td>\n",
       "      <td>130000000.0</td>\n",
       "    </tr>\n",
       "    <tr>\n",
       "      <th>1</th>\n",
       "      <td>4 Bed Townhouse with En Suite at Off Kiambu Road</td>\n",
       "      <td>Off Kiambu Road, Kiambu Road</td>\n",
       "      <td>4 Bedroom with DSQ for Sale</td>\n",
       "      <td>26950000.0</td>\n",
       "    </tr>\n",
       "    <tr>\n",
       "      <th>2</th>\n",
       "      <td>4 Bed Villa with En Suite at Masai Lodge Road</td>\n",
       "      <td>masai lodge road, Ongata Rongai</td>\n",
       "      <td>New modern villa for sale.</td>\n",
       "      <td>16000000.0</td>\n",
       "    </tr>\n",
       "    <tr>\n",
       "      <th>3</th>\n",
       "      <td>5 Bed House with En Suite in Ngong Road</td>\n",
       "      <td>Ngong Road</td>\n",
       "      <td>5 Bedroom Town House For Sale In Kilimani</td>\n",
       "      <td>45000000.0</td>\n",
       "    </tr>\n",
       "    <tr>\n",
       "      <th>4</th>\n",
       "      <td>5 Bed Townhouse with En Suite in Lavington</td>\n",
       "      <td>Lavington</td>\n",
       "      <td>Modern 5 Bedroom Townhouse For Sale</td>\n",
       "      <td>72000000.0</td>\n",
       "    </tr>\n",
       "  </tbody>\n",
       "</table>\n",
       "</div>"
      ],
      "text/plain": [
       "                                              title  \\\n",
       "0          6 Bed Villa with En Suite at Kiambu Road   \n",
       "1  4 Bed Townhouse with En Suite at Off Kiambu Road   \n",
       "2     4 Bed Villa with En Suite at Masai Lodge Road   \n",
       "3           5 Bed House with En Suite in Ngong Road   \n",
       "4        5 Bed Townhouse with En Suite in Lavington   \n",
       "\n",
       "                          location  \\\n",
       "0                      Kiambu Road   \n",
       "1     Off Kiambu Road, Kiambu Road   \n",
       "2  masai lodge road, Ongata Rongai   \n",
       "3                       Ngong Road   \n",
       "4                        Lavington   \n",
       "\n",
       "                                                size  selling price  \n",
       "0  6bdrm Mansion in Mushroom Estate, Kiambu / Kia...    130000000.0  \n",
       "1                        4 Bedroom with DSQ for Sale     26950000.0  \n",
       "2                         New modern villa for sale.     16000000.0  \n",
       "3          5 Bedroom Town House For Sale In Kilimani     45000000.0  \n",
       "4                Modern 5 Bedroom Townhouse For Sale     72000000.0  "
      ]
     },
     "execution_count": 5,
     "metadata": {},
     "output_type": "execute_result"
    }
   ],
   "source": [
    "data.head()"
   ]
  },
  {
   "cell_type": "code",
   "execution_count": 6,
   "id": "2afca106",
   "metadata": {},
   "outputs": [
    {
     "data": {
      "text/plain": [
       "title             object\n",
       "location          object\n",
       "size              object\n",
       "selling price    float64\n",
       "dtype: object"
      ]
     },
     "execution_count": 6,
     "metadata": {},
     "output_type": "execute_result"
    }
   ],
   "source": [
    "data.dtypes\n"
   ]
  },
  {
   "cell_type": "code",
   "execution_count": 7,
   "id": "230f9526",
   "metadata": {},
   "outputs": [
    {
     "data": {
      "text/html": [
       "<div>\n",
       "<style scoped>\n",
       "    .dataframe tbody tr th:only-of-type {\n",
       "        vertical-align: middle;\n",
       "    }\n",
       "\n",
       "    .dataframe tbody tr th {\n",
       "        vertical-align: top;\n",
       "    }\n",
       "\n",
       "    .dataframe thead th {\n",
       "        text-align: right;\n",
       "    }\n",
       "</style>\n",
       "<table border=\"1\" class=\"dataframe\">\n",
       "  <thead>\n",
       "    <tr style=\"text-align: right;\">\n",
       "      <th></th>\n",
       "      <th>selling price</th>\n",
       "    </tr>\n",
       "  </thead>\n",
       "  <tbody>\n",
       "    <tr>\n",
       "      <th>count</th>\n",
       "      <td>1.848000e+03</td>\n",
       "    </tr>\n",
       "    <tr>\n",
       "      <th>mean</th>\n",
       "      <td>6.101578e+07</td>\n",
       "    </tr>\n",
       "    <tr>\n",
       "      <th>std</th>\n",
       "      <td>7.084452e+07</td>\n",
       "    </tr>\n",
       "    <tr>\n",
       "      <th>min</th>\n",
       "      <td>2.700000e+06</td>\n",
       "    </tr>\n",
       "    <tr>\n",
       "      <th>25%</th>\n",
       "      <td>1.649975e+07</td>\n",
       "    </tr>\n",
       "    <tr>\n",
       "      <th>50%</th>\n",
       "      <td>3.950000e+07</td>\n",
       "    </tr>\n",
       "    <tr>\n",
       "      <th>75%</th>\n",
       "      <td>8.000000e+07</td>\n",
       "    </tr>\n",
       "    <tr>\n",
       "      <th>max</th>\n",
       "      <td>6.840000e+08</td>\n",
       "    </tr>\n",
       "  </tbody>\n",
       "</table>\n",
       "</div>"
      ],
      "text/plain": [
       "       selling price\n",
       "count   1.848000e+03\n",
       "mean    6.101578e+07\n",
       "std     7.084452e+07\n",
       "min     2.700000e+06\n",
       "25%     1.649975e+07\n",
       "50%     3.950000e+07\n",
       "75%     8.000000e+07\n",
       "max     6.840000e+08"
      ]
     },
     "execution_count": 7,
     "metadata": {},
     "output_type": "execute_result"
    }
   ],
   "source": [
    "data.describe()"
   ]
  },
  {
   "cell_type": "code",
   "execution_count": 8,
   "id": "17205251",
   "metadata": {},
   "outputs": [
    {
     "data": {
      "text/plain": [
       "title             0\n",
       "location          0\n",
       "size              0\n",
       "selling price    28\n",
       "dtype: int64"
      ]
     },
     "execution_count": 8,
     "metadata": {},
     "output_type": "execute_result"
    }
   ],
   "source": [
    "data.isna().sum()"
   ]
  },
  {
   "cell_type": "code",
   "execution_count": 9,
   "id": "c02dba7e",
   "metadata": {},
   "outputs": [],
   "source": [
    "mean_selling_price = data['selling price'].mean()\n",
    "data['selling price'].fillna(mean_selling_price, inplace=True)"
   ]
  },
  {
   "cell_type": "code",
   "execution_count": 10,
   "id": "f918b5d4",
   "metadata": {},
   "outputs": [
    {
     "data": {
      "text/plain": [
       "title            0\n",
       "location         0\n",
       "size             0\n",
       "selling price    0\n",
       "dtype: int64"
      ]
     },
     "execution_count": 10,
     "metadata": {},
     "output_type": "execute_result"
    }
   ],
   "source": [
    "data.isna().sum()"
   ]
  },
  {
   "cell_type": "code",
   "execution_count": 11,
   "id": "202624b1",
   "metadata": {},
   "outputs": [
    {
     "name": "stdout",
     "output_type": "stream",
     "text": [
      "Mean Squared Error: 4819682167634898.0\n"
     ]
    }
   ],
   "source": [
    "from sklearn.model_selection import train_test_split\n",
    "from sklearn.linear_model import LinearRegression\n",
    "from sklearn.ensemble import RandomForestRegressor\n",
    "from sklearn.tree import DecisionTreeRegressor\n",
    "from sklearn.preprocessing import LabelEncoder\n",
    "from sklearn.feature_extraction.text import TfidfVectorizer\n",
    "from sklearn.metrics import mean_squared_error\n",
    "from scipy.sparse import hstack\n",
    "import pandas as pd  # Import pandas\n",
    "\n",
    "# Example for regression model to predict price\n",
    "X = data[['title', 'location', 'size']]\n",
    "y = data['selling price']\n",
    "\n",
    "# Convert text data to numerical features\n",
    "title_encoder = TfidfVectorizer()\n",
    "X_title = title_encoder.fit_transform(X['title'])\n",
    "\n",
    "# Create a copy of the DataFrame for 'location' and 'size' columns\n",
    "X_copy = X.copy()\n",
    "\n",
    "# Use label encoding for 'location' and 'size' columns in the copy\n",
    "le = LabelEncoder()\n",
    "X_copy['location'] = le.fit_transform(X_copy['location'])\n",
    "X_copy['size'] = le.fit_transform(X_copy['size'])\n",
    "\n",
    "# Combine all features using hstack\n",
    "X_combined = hstack([X_copy['location'].values.reshape(-1, 1), X_copy['size'].values.reshape(-1, 1), X_title])\n",
    "\n",
    "# Split the data into training and testing sets\n",
    "X_train, X_test, y_train, y_test = train_test_split(X_combined, y, test_size=0.2, random_state=42)\n",
    "\n",
    "# Train and evaluate a regression model (e.g., Random Forest)\n",
    "model = RandomForestRegressor()\n",
    "model.fit(X_train, y_train)\n",
    "predictions = model.predict(X_test)\n",
    "mse = mean_squared_error(y_test, predictions)\n",
    "\n",
    "print(f'Mean Squared Error: {mse}')"
   ]
  },
  {
   "cell_type": "markdown",
   "id": "c1ed950f",
   "metadata": {},
   "source": [
    "A **Mean Squared Error (MSE)** of 4.78e+15 is an extremely high value, and it indicates that the model's predictions are far from the actual values. This suggests that the model is not performing well on your data. There could be several causes of this like the model choice, feature engineering, hyperparameter tuning etc etc so understand your data well before building the model. \n",
    "\n",
    "\n",
    "Let see if the result changes when we change into a better performing model.  We will choose an ensemble model."
   ]
  },
  {
   "cell_type": "code",
   "execution_count": 12,
   "id": "bb0c6a51",
   "metadata": {},
   "outputs": [
    {
     "name": "stdout",
     "output_type": "stream",
     "text": [
      "Mean Squared Error: 4171730408363772.0\n"
     ]
    }
   ],
   "source": [
    "import pandas as pd\n",
    "from sklearn.model_selection import train_test_split\n",
    "import xgboost as xgb\n",
    "from sklearn.metrics import mean_squared_error\n",
    "\n",
    "# Example for regression model to predict price\n",
    "X = data[['title', 'location', 'size']]\n",
    "y = data['selling price']\n",
    "\n",
    "# Convert text data to numerical features\n",
    "title_encoder = TfidfVectorizer()\n",
    "X_title = title_encoder.fit_transform(X['title'])\n",
    "\n",
    "# Create copies of the DataFrame for 'location' and 'size' columns\n",
    "X_copy = X.copy()\n",
    "\n",
    "# Use label encoding for 'location' and 'size' columns in the copies\n",
    "le = LabelEncoder()\n",
    "X_copy['location'] = le.fit_transform(X_copy['location'])\n",
    "X_copy['size'] = le.fit_transform(X_copy['size'])\n",
    "\n",
    "# Combine all features using hstack\n",
    "X_combined = hstack([X_copy['location'].values.reshape(-1, 1), X_copy['size'].values.reshape(-1, 1), X_title])\n",
    "\n",
    "# Split the data into training and testing sets\n",
    "X_train, X_test, y_train, y_test = train_test_split(X_combined, y, test_size=0.2, random_state=42)\n",
    "\n",
    "# Create an XGBoost regression model\n",
    "model = xgb.XGBRegressor()\n",
    "\n",
    "# Train the model\n",
    "model.fit(X_train, y_train)\n",
    "\n",
    "# Make predictions on the test data\n",
    "predictions = model.predict(X_test)\n",
    "\n",
    "# Calculate the Mean Squared Error\n",
    "mse = mean_squared_error(y_test, predictions)\n",
    "print(f'Mean Squared Error: {mse}')"
   ]
  },
  {
   "cell_type": "code",
   "execution_count": 25,
   "id": "03651795",
   "metadata": {},
   "outputs": [],
   "source": [
    "import json \n",
    "\n",
    "# Serialize the model as a JSON string\n",
    "model_json = model.get_booster().get_dump(dump_format='json')\n",
    "\n",
    "# Save the JSON string to a file\n",
    "with open('models/sample_model.json', 'w') as f:\n",
    "    json.dump(model_json, f)"
   ]
  },
  {
   "cell_type": "code",
   "execution_count": 33,
   "id": "8fd389fe",
   "metadata": {},
   "outputs": [
    {
     "ename": "XGBoostError",
     "evalue": "[18:07:16] /workspace/dmlc-core/src/io/local_filesys.cc:209: Check failed: allow_null:  LocalFileSystem::Open \"models/sample_model.model\": No such file or directory\nStack trace:\n  [bt] (0) /home/grayhat/anaconda3/lib/python3.9/site-packages/xgboost/lib/libxgboost.so(+0x1ba0be) [0x7f9f01bba0be]\n  [bt] (1) /home/grayhat/anaconda3/lib/python3.9/site-packages/xgboost/lib/libxgboost.so(+0xcc8dc7) [0x7f9f026c8dc7]\n  [bt] (2) /home/grayhat/anaconda3/lib/python3.9/site-packages/xgboost/lib/libxgboost.so(+0xcb4c5e) [0x7f9f026b4c5e]\n  [bt] (3) /home/grayhat/anaconda3/lib/python3.9/site-packages/xgboost/lib/libxgboost.so(XGBoosterLoadModel+0x18e) [0x7f9f01b6e93e]\n  [bt] (4) /home/grayhat/anaconda3/lib/python3.9/lib-dynload/../../libffi.so.7(+0x69dd) [0x7f9f5d0c79dd]\n  [bt] (5) /home/grayhat/anaconda3/lib/python3.9/lib-dynload/../../libffi.so.7(+0x6067) [0x7f9f5d0c7067]\n  [bt] (6) /home/grayhat/anaconda3/lib/python3.9/lib-dynload/_ctypes.cpython-39-x86_64-linux-gnu.so(+0x140f6) [0x7f9f5d0e10f6]\n  [bt] (7) /home/grayhat/anaconda3/lib/python3.9/lib-dynload/_ctypes.cpython-39-x86_64-linux-gnu.so(+0x1073e) [0x7f9f5d0dd73e]\n  [bt] (8) /home/grayhat/anaconda3/bin/python(_PyObject_MakeTpCall+0x37f) [0x5569115959ef]\n\n",
     "output_type": "error",
     "traceback": [
      "\u001b[0;31m---------------------------------------------------------------------------\u001b[0m",
      "\u001b[0;31mXGBoostError\u001b[0m                              Traceback (most recent call last)",
      "\u001b[0;32m/tmp/ipykernel_25803/2947917108.py\u001b[0m in \u001b[0;36m<module>\u001b[0;34m\u001b[0m\n\u001b[1;32m      3\u001b[0m \u001b[0;31m# Load your saved XGBoost model from the JSON file (replace 'your_model_filename.json' with the actual filename)\u001b[0m\u001b[0;34m\u001b[0m\u001b[0;34m\u001b[0m\u001b[0m\n\u001b[1;32m      4\u001b[0m \u001b[0;34m\u001b[0m\u001b[0m\n\u001b[0;32m----> 5\u001b[0;31m \u001b[0mmodel\u001b[0m \u001b[0;34m=\u001b[0m \u001b[0mxgb\u001b[0m\u001b[0;34m.\u001b[0m\u001b[0mBooster\u001b[0m\u001b[0;34m(\u001b[0m\u001b[0mmodel_file\u001b[0m\u001b[0;34m=\u001b[0m\u001b[0;34m'models/sample_model.model'\u001b[0m\u001b[0;34m)\u001b[0m\u001b[0;34m\u001b[0m\u001b[0;34m\u001b[0m\u001b[0m\n\u001b[0m\u001b[1;32m      6\u001b[0m \u001b[0;34m\u001b[0m\u001b[0m\n\u001b[1;32m      7\u001b[0m \u001b[0;31m# Define a function to make predictions (use your existing code)\u001b[0m\u001b[0;34m\u001b[0m\u001b[0;34m\u001b[0m\u001b[0m\n",
      "\u001b[0;32m~/anaconda3/lib/python3.9/site-packages/xgboost/core.py\u001b[0m in \u001b[0;36m__init__\u001b[0;34m(self, params, cache, model_file)\u001b[0m\n\u001b[1;32m   1677\u001b[0m             \u001b[0mself\u001b[0m\u001b[0;34m.\u001b[0m\u001b[0m__dict__\u001b[0m\u001b[0;34m.\u001b[0m\u001b[0mupdate\u001b[0m\u001b[0;34m(\u001b[0m\u001b[0mstate\u001b[0m\u001b[0;34m)\u001b[0m\u001b[0;34m\u001b[0m\u001b[0;34m\u001b[0m\u001b[0m\n\u001b[1;32m   1678\u001b[0m         \u001b[0;32melif\u001b[0m \u001b[0misinstance\u001b[0m\u001b[0;34m(\u001b[0m\u001b[0mmodel_file\u001b[0m\u001b[0;34m,\u001b[0m \u001b[0;34m(\u001b[0m\u001b[0mstr\u001b[0m\u001b[0;34m,\u001b[0m \u001b[0mos\u001b[0m\u001b[0;34m.\u001b[0m\u001b[0mPathLike\u001b[0m\u001b[0;34m,\u001b[0m \u001b[0mbytearray\u001b[0m\u001b[0;34m)\u001b[0m\u001b[0;34m)\u001b[0m\u001b[0;34m:\u001b[0m\u001b[0;34m\u001b[0m\u001b[0;34m\u001b[0m\u001b[0m\n\u001b[0;32m-> 1679\u001b[0;31m             \u001b[0mself\u001b[0m\u001b[0;34m.\u001b[0m\u001b[0mload_model\u001b[0m\u001b[0;34m(\u001b[0m\u001b[0mmodel_file\u001b[0m\u001b[0;34m)\u001b[0m\u001b[0;34m\u001b[0m\u001b[0;34m\u001b[0m\u001b[0m\n\u001b[0m\u001b[1;32m   1680\u001b[0m         \u001b[0;32melif\u001b[0m \u001b[0mmodel_file\u001b[0m \u001b[0;32mis\u001b[0m \u001b[0;32mNone\u001b[0m\u001b[0;34m:\u001b[0m\u001b[0;34m\u001b[0m\u001b[0;34m\u001b[0m\u001b[0m\n\u001b[1;32m   1681\u001b[0m             \u001b[0;32mpass\u001b[0m\u001b[0;34m\u001b[0m\u001b[0;34m\u001b[0m\u001b[0m\n",
      "\u001b[0;32m~/anaconda3/lib/python3.9/site-packages/xgboost/core.py\u001b[0m in \u001b[0;36mload_model\u001b[0;34m(self, fname)\u001b[0m\n\u001b[1;32m   2584\u001b[0m             \u001b[0;31m# from URL.\u001b[0m\u001b[0;34m\u001b[0m\u001b[0;34m\u001b[0m\u001b[0m\n\u001b[1;32m   2585\u001b[0m             \u001b[0mfname\u001b[0m \u001b[0;34m=\u001b[0m \u001b[0mos\u001b[0m\u001b[0;34m.\u001b[0m\u001b[0mfspath\u001b[0m\u001b[0;34m(\u001b[0m\u001b[0mos\u001b[0m\u001b[0;34m.\u001b[0m\u001b[0mpath\u001b[0m\u001b[0;34m.\u001b[0m\u001b[0mexpanduser\u001b[0m\u001b[0;34m(\u001b[0m\u001b[0mfname\u001b[0m\u001b[0;34m)\u001b[0m\u001b[0;34m)\u001b[0m\u001b[0;34m\u001b[0m\u001b[0;34m\u001b[0m\u001b[0m\n\u001b[0;32m-> 2586\u001b[0;31m             \u001b[0m_check_call\u001b[0m\u001b[0;34m(\u001b[0m\u001b[0m_LIB\u001b[0m\u001b[0;34m.\u001b[0m\u001b[0mXGBoosterLoadModel\u001b[0m\u001b[0;34m(\u001b[0m\u001b[0mself\u001b[0m\u001b[0;34m.\u001b[0m\u001b[0mhandle\u001b[0m\u001b[0;34m,\u001b[0m \u001b[0mc_str\u001b[0m\u001b[0;34m(\u001b[0m\u001b[0mfname\u001b[0m\u001b[0;34m)\u001b[0m\u001b[0;34m)\u001b[0m\u001b[0;34m)\u001b[0m\u001b[0;34m\u001b[0m\u001b[0;34m\u001b[0m\u001b[0m\n\u001b[0m\u001b[1;32m   2587\u001b[0m         \u001b[0;32melif\u001b[0m \u001b[0misinstance\u001b[0m\u001b[0;34m(\u001b[0m\u001b[0mfname\u001b[0m\u001b[0;34m,\u001b[0m \u001b[0mbytearray\u001b[0m\u001b[0;34m)\u001b[0m\u001b[0;34m:\u001b[0m\u001b[0;34m\u001b[0m\u001b[0;34m\u001b[0m\u001b[0m\n\u001b[1;32m   2588\u001b[0m             \u001b[0mbuf\u001b[0m \u001b[0;34m=\u001b[0m \u001b[0mfname\u001b[0m\u001b[0;34m\u001b[0m\u001b[0;34m\u001b[0m\u001b[0m\n",
      "\u001b[0;32m~/anaconda3/lib/python3.9/site-packages/xgboost/core.py\u001b[0m in \u001b[0;36m_check_call\u001b[0;34m(ret)\u001b[0m\n\u001b[1;32m    279\u001b[0m     \"\"\"\n\u001b[1;32m    280\u001b[0m     \u001b[0;32mif\u001b[0m \u001b[0mret\u001b[0m \u001b[0;34m!=\u001b[0m \u001b[0;36m0\u001b[0m\u001b[0;34m:\u001b[0m\u001b[0;34m\u001b[0m\u001b[0;34m\u001b[0m\u001b[0m\n\u001b[0;32m--> 281\u001b[0;31m         \u001b[0;32mraise\u001b[0m \u001b[0mXGBoostError\u001b[0m\u001b[0;34m(\u001b[0m\u001b[0mpy_str\u001b[0m\u001b[0;34m(\u001b[0m\u001b[0m_LIB\u001b[0m\u001b[0;34m.\u001b[0m\u001b[0mXGBGetLastError\u001b[0m\u001b[0;34m(\u001b[0m\u001b[0;34m)\u001b[0m\u001b[0;34m)\u001b[0m\u001b[0;34m)\u001b[0m\u001b[0;34m\u001b[0m\u001b[0;34m\u001b[0m\u001b[0m\n\u001b[0m\u001b[1;32m    282\u001b[0m \u001b[0;34m\u001b[0m\u001b[0m\n\u001b[1;32m    283\u001b[0m \u001b[0;34m\u001b[0m\u001b[0m\n",
      "\u001b[0;31mXGBoostError\u001b[0m: [18:07:16] /workspace/dmlc-core/src/io/local_filesys.cc:209: Check failed: allow_null:  LocalFileSystem::Open \"models/sample_model.model\": No such file or directory\nStack trace:\n  [bt] (0) /home/grayhat/anaconda3/lib/python3.9/site-packages/xgboost/lib/libxgboost.so(+0x1ba0be) [0x7f9f01bba0be]\n  [bt] (1) /home/grayhat/anaconda3/lib/python3.9/site-packages/xgboost/lib/libxgboost.so(+0xcc8dc7) [0x7f9f026c8dc7]\n  [bt] (2) /home/grayhat/anaconda3/lib/python3.9/site-packages/xgboost/lib/libxgboost.so(+0xcb4c5e) [0x7f9f026b4c5e]\n  [bt] (3) /home/grayhat/anaconda3/lib/python3.9/site-packages/xgboost/lib/libxgboost.so(XGBoosterLoadModel+0x18e) [0x7f9f01b6e93e]\n  [bt] (4) /home/grayhat/anaconda3/lib/python3.9/lib-dynload/../../libffi.so.7(+0x69dd) [0x7f9f5d0c79dd]\n  [bt] (5) /home/grayhat/anaconda3/lib/python3.9/lib-dynload/../../libffi.so.7(+0x6067) [0x7f9f5d0c7067]\n  [bt] (6) /home/grayhat/anaconda3/lib/python3.9/lib-dynload/_ctypes.cpython-39-x86_64-linux-gnu.so(+0x140f6) [0x7f9f5d0e10f6]\n  [bt] (7) /home/grayhat/anaconda3/lib/python3.9/lib-dynload/_ctypes.cpython-39-x86_64-linux-gnu.so(+0x1073e) [0x7f9f5d0dd73e]\n  [bt] (8) /home/grayhat/anaconda3/bin/python(_PyObject_MakeTpCall+0x37f) [0x5569115959ef]\n\n"
     ]
    }
   ],
   "source": [
    "import xgboost as xgb\n",
    "\n",
    "# Load your saved XGBoost model from the JSON file (replace 'your_model_filename.json' with the actual filename)\n",
    "\n",
    "model = xgb.Booster(model_file='models/sample_model.model')\n",
    "\n",
    "# Define a function to make predictions (use your existing code)\n",
    "def predict_selling_price(title, location, size):\n",
    "    # Convert the user input into numerical features\n",
    "    title_encoded = title_encoder.transform([title])\n",
    "    \n",
    "    try:\n",
    "        location_encoded = location_encoder.transform([location])\n",
    "    except ValueError:\n",
    "        # Handle unseen location labels, e.g., assign a default label\n",
    "        location_encoded = location_encoder.transform(['Unknown'])\n",
    "    \n",
    "    try:\n",
    "        size_encoded = size_encoder.transform([size])\n",
    "    except ValueError:\n",
    "        # Handle unseen size labels, e.g., assign a default label\n",
    "        size_encoded = size_encoder.transform(['Unknown'])\n",
    "    \n",
    "    # Combine the numerical features using hstack\n",
    "    features = hstack([location_encoded.reshape(1, -1), size_encoded.reshape(1, -1), title_encoded.reshape(1, -1)])\n",
    "    \n",
    "    # Predict the selling price\n",
    "    predicted_price = model.predict(xgb.DMatrix(features))\n",
    "    \n",
    "    return predicted_price[0]\n",
    "\n",
    "# Get user input\n",
    "title = input(\"Enter the house title: \")\n",
    "location = input(\"Enter the location: \")\n",
    "size = input(\"Enter the size: \")\n",
    "\n",
    "# Predict selling price\n",
    "predicted_price = predict_selling_price(title, location, size)\n",
    "print(f\"Predicted Selling Price: {predicted_price:.2f} KSh\")\n"
   ]
  }
 ],
 "metadata": {
  "kernelspec": {
   "display_name": "Python 3 (ipykernel)",
   "language": "python",
   "name": "python3"
  },
  "language_info": {
   "codemirror_mode": {
    "name": "ipython",
    "version": 3
   },
   "file_extension": ".py",
   "mimetype": "text/x-python",
   "name": "python",
   "nbconvert_exporter": "python",
   "pygments_lexer": "ipython3",
   "version": "3.9.7"
  }
 },
 "nbformat": 4,
 "nbformat_minor": 5
}
