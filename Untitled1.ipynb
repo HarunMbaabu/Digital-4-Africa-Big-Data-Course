{
 "cells": [
  {
   "cell_type": "code",
   "execution_count": null,
   "id": "4e06740d",
   "metadata": {},
   "outputs": [],
   "source": [
    "def cleandata(data): \n",
    "    \n",
    "    data  = pd.read_csv() \n",
    "    \n",
    "    cleandata  = data.isna().sum\n",
    "    \n",
    "    return cleandata"
   ]
  },
  {
   "cell_type": "code",
   "execution_count": 3,
   "id": "13265d4a",
   "metadata": {},
   "outputs": [
    {
     "name": "stdout",
     "output_type": "stream",
     "text": [
      "french fries\n",
      "rösti\n",
      "['pizza', 'french fries']\n",
      "['french fries']\n",
      "['rösti', 'pizza']\n",
      "4\n",
      "['pizza', 'french fries']\n",
      "juice\n"
     ]
    }
   ],
   "source": [
    "# can store any data type\n",
    "multiple_types = [True, 3.7, \"Python\"]\n",
    "\n",
    "# access and modify\n",
    "favourite_foods = [\"pasta\", \"pizza\", \"french fries\"]\n",
    "print(favourite_foods[2]) # pizza\n",
    "favourite_foods[0] = \"rösti\"\n",
    "print(favourite_foods[0]) # rösti\n",
    "\n",
    "# subsets\n",
    "print(favourite_foods[1:3]) # ['pizza', 'french fries']\n",
    "print(favourite_foods[2:]) # ['french fries']\n",
    "print(favourite_foods[0:2]) # ['rösti', 'pizza']\n",
    "\n",
    "# append\n",
    "favourite_foods.append(\"paella\")\n",
    "\n",
    "# insert at index\n",
    "favourite_foods.insert(1, \"soup\")\n",
    "\n",
    "# remove\n",
    "favourite_foods.remove(\"soup\")\n",
    "\n",
    "# get length\n",
    "print(len(favourite_foods)) # 4\n",
    "\n",
    "# get subset (the original list is not modified)\n",
    "print(favourite_foods[1:3]) # ['pizza', 'french fries']\n",
    "\n",
    "# lists inside lists\n",
    "favourite_drinks = [\"water\", \"wine\", \"juice\"]\n",
    "favourites = [favourite_foods, favourite_drinks]\n",
    "print(favourites[1][2]) # juice\n"
   ]
  },
  {
   "cell_type": "code",
   "execution_count": 5,
   "id": "5911c418",
   "metadata": {},
   "outputs": [],
   "source": [
    "user  = { \n",
    "\n",
    "\"name\" : \"Harun\",\n",
    "\"follower\": 21\n",
    "} \n"
   ]
  },
  {
   "cell_type": "code",
   "execution_count": 6,
   "id": "3ca52ea7",
   "metadata": {},
   "outputs": [
    {
     "data": {
      "text/plain": [
       "{'name': 'Harun', 'follower': 21}"
      ]
     },
     "execution_count": 6,
     "metadata": {},
     "output_type": "execute_result"
    }
   ],
   "source": [
    "user"
   ]
  }
 ],
 "metadata": {
  "kernelspec": {
   "display_name": "Python 3 (ipykernel)",
   "language": "python",
   "name": "python3"
  },
  "language_info": {
   "codemirror_mode": {
    "name": "ipython",
    "version": 3
   },
   "file_extension": ".py",
   "mimetype": "text/x-python",
   "name": "python",
   "nbconvert_exporter": "python",
   "pygments_lexer": "ipython3",
   "version": "3.9.7"
  }
 },
 "nbformat": 4,
 "nbformat_minor": 5
}
