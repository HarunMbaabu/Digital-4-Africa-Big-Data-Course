{
 "cells": [
  {
   "cell_type": "code",
   "execution_count": 3,
   "id": "39b71542",
   "metadata": {},
   "outputs": [],
   "source": [
    "import csv\n",
    "import time\n",
    "import requests\n",
    "from bs4 import BeautifulSoup\n",
    "\n",
    "url_base = 'https://www.buyrentkenya.com/houses-for-rent?page='\n",
    "headers = {'User-Agent': 'Mozilla/5.0'}\n",
    "\n",
    "houses_data = []\n",
    "\n",
    "for page in range(1, 125):\n",
    "    url = url_base + str(page)\n",
    "    response = requests.get(url, headers=headers)\n",
    "    soup = BeautifulSoup(response.content, 'html.parser')\n",
    "\n",
    "    listings = soup.find_all('div', class_='px-5') \n",
    "\n",
    "    for listing in listings:\n",
    "        title = listing.find('span', class_='hidden').text.strip()\n",
    "        location = listing.find('p', class_='text-sm').text.strip()\n",
    "        size = listing.find('a', class_='text-grey-500').text.strip() \n",
    "        price = listing.find('div', {'class': 'flex justify-between items-center'}).text.strip()\n",
    "\n",
    "        houses_data.append({'title': title, 'location': location, 'size': size, 'rental fee': price})\n",
    "\n",
    "\n",
    "# Save the data to a CSV file\n",
    "csv_file_path = 'data/houses-for-rent.csv'\n",
    "with open(csv_file_path, 'w', newline='', encoding='utf-8') as f:\n",
    "    csv_writer = csv.DictWriter(f, fieldnames=['title', 'location', 'size', 'rental fee'])\n",
    "    csv_writer.writeheader()\n",
    "    csv_writer.writerows(houses_data)\n"
   ]
  },
  {
   "cell_type": "code",
   "execution_count": 4,
   "id": "2fdf6510",
   "metadata": {},
   "outputs": [
    {
     "data": {
      "application/javascript": [
       "\n",
       "        if (window._pyforest_update_imports_cell) { window._pyforest_update_imports_cell('import pandas as pd'); }\n",
       "    "
      ],
      "text/plain": [
       "<IPython.core.display.Javascript object>"
      ]
     },
     "metadata": {},
     "output_type": "display_data"
    }
   ],
   "source": [
    "df = pd.read_csv('data/houses-for-rent.csv')"
   ]
  },
  {
   "cell_type": "code",
   "execution_count": null,
   "id": "500d20c3",
   "metadata": {},
   "outputs": [],
   "source": [
    "data.head()"
   ]
  },
  {
   "cell_type": "code",
   "execution_count": null,
   "id": "63854289",
   "metadata": {},
   "outputs": [],
   "source": []
  }
 ],
 "metadata": {
  "kernelspec": {
   "display_name": "Python 3 (ipykernel)",
   "language": "python",
   "name": "python3"
  },
  "language_info": {
   "codemirror_mode": {
    "name": "ipython",
    "version": 3
   },
   "file_extension": ".py",
   "mimetype": "text/x-python",
   "name": "python",
   "nbconvert_exporter": "python",
   "pygments_lexer": "ipython3",
   "version": "3.9.7"
  }
 },
 "nbformat": 4,
 "nbformat_minor": 5
}
