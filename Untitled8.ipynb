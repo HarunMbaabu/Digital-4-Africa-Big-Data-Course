{
 "cells": [
  {
   "cell_type": "code",
   "execution_count": 11,
   "id": "f8aa6446",
   "metadata": {},
   "outputs": [],
   "source": [
    "import pandas\n",
    "import requests\n",
    "from bs4 import BeautifulSoup"
   ]
  },
  {
   "cell_type": "code",
   "execution_count": 12,
   "id": "39de51fb",
   "metadata": {},
   "outputs": [],
   "source": [
    "url_base = 'https://www.sakile.co.ke/'\n",
    "\n",
    "\n",
    "headers = {'User-Agent': 'Mozilla/5.0'}"
   ]
  },
  {
   "cell_type": "code",
   "execution_count": 14,
   "id": "bd1f0ee1",
   "metadata": {},
   "outputs": [],
   "source": [
    "\n",
    "\n",
    "response = requests.get(url_base , headers=headers)\n",
    "\n",
    "\n",
    "soup = BeautifulSoup(response.content, 'html.parser')\n",
    "\n",
    "\n",
    "# soup "
   ]
  },
  {
   "cell_type": "code",
   "execution_count": 17,
   "id": "a7551c72",
   "metadata": {},
   "outputs": [],
   "source": [
    "size  = soup.find_all('a', class_='listing_title_unit')"
   ]
  },
  {
   "cell_type": "code",
   "execution_count": 18,
   "id": "bb2a9dd1",
   "metadata": {},
   "outputs": [
    {
     "data": {
      "text/plain": [
       "[<a class=\"listing_title_unit\" href=\"https://www.sakile.co.ke/properties/2-bedroom-apartment/\" itemprop=\"url\">\n",
       " <!--    <span itemprop=\"name\">-->\n",
       "     2 Bedroom Apartment<!--    </span>-->\n",
       " </a>,\n",
       " <a class=\"listing_title_unit\" href=\"https://www.sakile.co.ke/properties/2-bedroom-apartmentdsq/\" itemprop=\"url\">\n",
       " <!--    <span itemprop=\"name\">-->\n",
       "     2 Bedroom Apartment(DSQ)<!--    </span>-->\n",
       " </a>,\n",
       " <a class=\"listing_title_unit\" href=\"https://www.sakile.co.ke/properties/3-bedroom-apartmentdsq/\" itemprop=\"url\">\n",
       " <!--    <span itemprop=\"name\">-->\n",
       "     3 Bedroom Apartment(DSQ)<!--    </span>-->\n",
       " </a>,\n",
       " <a class=\"listing_title_unit\" href=\"https://www.sakile.co.ke/properties/house-type-a/\" itemprop=\"url\">\n",
       " <!--    <span itemprop=\"name\">-->\n",
       "     House Type A<!--    </span>-->\n",
       " </a>,\n",
       " <a class=\"listing_title_unit\" href=\"https://www.sakile.co.ke/properties/house-type-b/\" itemprop=\"url\">\n",
       " <!--    <span itemprop=\"name\">-->\n",
       "     House Type B<!--    </span>-->\n",
       " </a>,\n",
       " <a class=\"listing_title_unit\" href=\"https://www.sakile.co.ke/properties/house-type-c/\" itemprop=\"url\">\n",
       " <!--    <span itemprop=\"name\">-->\n",
       "     House Type C<!--    </span>-->\n",
       " </a>]"
      ]
     },
     "execution_count": 18,
     "metadata": {},
     "output_type": "execute_result"
    }
   ],
   "source": [
    "size"
   ]
  },
  {
   "cell_type": "code",
   "execution_count": 19,
   "id": "01cc278e",
   "metadata": {},
   "outputs": [],
   "source": [
    "location = soup.find_all('span', class_='elementor-icon-list-text')"
   ]
  },
  {
   "cell_type": "code",
   "execution_count": 20,
   "id": "736b5222",
   "metadata": {},
   "outputs": [
    {
     "data": {
      "text/plain": [
       "[<span class=\"elementor-icon-list-text\">Stima Plaza Annex, 3rd Floor</span>,\n",
       " <span class=\"elementor-icon-list-text\">Kolobot Road, Parklands</span>,\n",
       " <span class=\"elementor-icon-list-text\">0720 533 520 / 0704 211 211 / 0704 212 212 / 0704 210210</span>,\n",
       " <span class=\"elementor-icon-list-text\">info@sakile.co.ke</span>,\n",
       " <span class=\"elementor-icon-list-text\">Why Sakile</span>,\n",
       " <span class=\"elementor-icon-list-text\">Top Management</span>,\n",
       " <span class=\"elementor-icon-list-text\">The Team</span>,\n",
       " <span class=\"elementor-icon-list-text\">Privacy Policy </span>,\n",
       " <span class=\"elementor-icon-list-text\">Buy Property</span>,\n",
       " <span class=\"elementor-icon-list-text\">Rent Property</span>,\n",
       " <span class=\"elementor-icon-list-text\">Upcoming Projects</span>,\n",
       " <span class=\"elementor-icon-list-text\">Sold Properties</span>]"
      ]
     },
     "execution_count": 20,
     "metadata": {},
     "output_type": "execute_result"
    }
   ],
   "source": [
    "location"
   ]
  }
 ],
 "metadata": {
  "kernelspec": {
   "display_name": "Python 3 (ipykernel)",
   "language": "python",
   "name": "python3"
  },
  "language_info": {
   "codemirror_mode": {
    "name": "ipython",
    "version": 3
   },
   "file_extension": ".py",
   "mimetype": "text/x-python",
   "name": "python",
   "nbconvert_exporter": "python",
   "pygments_lexer": "ipython3",
   "version": "3.9.7"
  }
 },
 "nbformat": 4,
 "nbformat_minor": 5
}
