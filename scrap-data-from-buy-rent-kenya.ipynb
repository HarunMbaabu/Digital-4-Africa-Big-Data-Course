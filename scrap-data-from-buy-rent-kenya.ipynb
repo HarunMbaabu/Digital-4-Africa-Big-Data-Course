{
 "cells": [
  {
   "cell_type": "markdown",
   "id": "4af0d5d3",
   "metadata": {
    "papermill": {
     "duration": 0.004524,
     "end_time": "2023-10-05T09:09:38.486883",
     "exception": false,
     "start_time": "2023-10-05T09:09:38.482359",
     "status": "completed"
    },
    "tags": []
   },
   "source": [
    "### **Data Collection- Data Scraping With BeautifulSoup.**\n",
    "\n",
    "The code below scraps rent and buy data from **BuyRentKenya,** https://www.buyrentkenya.com/ and saves th data in csv file which is later moved into MySQL database. "
   ]
  },
  {
   "cell_type": "markdown",
   "id": "1e3efd7f",
   "metadata": {
    "papermill": {
     "duration": 0.002754,
     "end_time": "2023-10-05T09:09:38.495631",
     "exception": false,
     "start_time": "2023-10-05T09:09:38.492877",
     "status": "completed"
    },
    "tags": []
   },
   "source": [
    "#### **Iport Necessary Packages.** \n",
    "- I hope you remember what python packages are and how to install them. For example if  wanted to use pandas i would use the command:\n",
    "\n",
    "```pip install pandas```"
   ]
  },
  {
   "cell_type": "code",
   "execution_count": 1,
   "id": "a1fb71c5",
   "metadata": {
    "execution": {
     "iopub.execute_input": "2023-10-05T09:09:38.503385Z",
     "iopub.status.busy": "2023-10-05T09:09:38.503032Z",
     "iopub.status.idle": "2023-10-05T09:09:38.750402Z",
     "shell.execute_reply": "2023-10-05T09:09:38.749156Z"
    },
    "papermill": {
     "duration": 0.254707,
     "end_time": "2023-10-05T09:09:38.753299",
     "exception": false,
     "start_time": "2023-10-05T09:09:38.498592",
     "status": "completed"
    },
    "tags": []
   },
   "outputs": [],
   "source": [
    "import csv\n",
    "import os\n",
    "import time\n",
    "import requests\n",
    "from bs4 import BeautifulSoup"
   ]
  },
  {
   "cell_type": "markdown",
   "id": "c32bd6cb",
   "metadata": {
    "papermill": {
     "duration": 0.00389,
     "end_time": "2023-10-05T09:09:38.762226",
     "exception": false,
     "start_time": "2023-10-05T09:09:38.758336",
     "status": "completed"
    },
    "tags": []
   },
   "source": [
    "#### **Access the URL from which we want to scrap data from.**\n",
    "- For this case we want to access houses for sale so we will specify when accessing the url.\n"
   ]
  },
  {
   "cell_type": "code",
   "execution_count": 14,
   "id": "ae2fb0b1",
   "metadata": {
    "execution": {
     "iopub.execute_input": "2023-10-05T09:09:38.771786Z",
     "iopub.status.busy": "2023-10-05T09:09:38.770454Z",
     "iopub.status.idle": "2023-10-05T09:09:38.777086Z",
     "shell.execute_reply": "2023-10-05T09:09:38.775921Z"
    },
    "papermill": {
     "duration": 0.013894,
     "end_time": "2023-10-05T09:09:38.779502",
     "exception": false,
     "start_time": "2023-10-05T09:09:38.765608",
     "status": "completed"
    },
    "tags": []
   },
   "outputs": [],
   "source": [
    "url_base = 'https://www.buyrentkenya.com/houses-for-sale?page='\n",
    "headers = {'User-Agent': 'Mozilla/5.0'}"
   ]
  },
  {
   "cell_type": "markdown",
   "id": "0fd776be",
   "metadata": {
    "papermill": {
     "duration": 0.002864,
     "end_time": "2023-10-05T09:09:38.785735",
     "exception": false,
     "start_time": "2023-10-05T09:09:38.782871",
     "status": "completed"
    },
    "tags": []
   },
   "source": [
    "**Define an emply object to store our data**"
   ]
  },
  {
   "cell_type": "code",
   "execution_count": 15,
   "id": "3d1f944a",
   "metadata": {
    "execution": {
     "iopub.execute_input": "2023-10-05T09:09:38.794167Z",
     "iopub.status.busy": "2023-10-05T09:09:38.792976Z",
     "iopub.status.idle": "2023-10-05T09:09:38.798481Z",
     "shell.execute_reply": "2023-10-05T09:09:38.797629Z"
    },
    "papermill": {
     "duration": 0.01184,
     "end_time": "2023-10-05T09:09:38.800544",
     "exception": false,
     "start_time": "2023-10-05T09:09:38.788704",
     "status": "completed"
    },
    "tags": []
   },
   "outputs": [],
   "source": [
    "houses_data = []"
   ]
  },
  {
   "cell_type": "markdown",
   "id": "5fed2b0e",
   "metadata": {
    "papermill": {
     "duration": 0.002432,
     "end_time": "2023-10-05T09:09:38.806034",
     "exception": false,
     "start_time": "2023-10-05T09:09:38.803602",
     "status": "completed"
    },
    "tags": []
   },
   "source": [
    "**Logic to scrap house title, location, size and prices**"
   ]
  },
  {
   "cell_type": "raw",
   "id": "3beb0e49",
   "metadata": {
    "_cell_guid": "b1076dfc-b9ad-4769-8c92-a6c4dae69d19",
    "_uuid": "8f2839f25d086af736a60e9eeb907d3b93b6e0e5",
    "papermill": {
     "duration": 0.002246,
     "end_time": "2023-10-05T09:09:38.810760",
     "exception": false,
     "start_time": "2023-10-05T09:09:38.808514",
     "status": "completed"
    },
    "tags": []
   },
   "source": [
    " for page in range(1, 125):\n",
    "    url = url_base + str(page)\n",
    "    response = requests.get(url, headers=headers)\n",
    "    soup = BeautifulSoup(response.content, 'html.parser')\n",
    "\n",
    "    listings = soup.find_all('div', class_='px-5') \n",
    "\n",
    "    for listing in listings:\n",
    "        title = listing.find('span', class_='hidden').text.strip()\n",
    "        location = listing.find('p', class_='text-sm').text.strip()\n",
    "        size = listing.find('a', class_='text-grey-500').text.strip() \n",
    "        price = listing.find('div', {'class': 'flex justify-between items-center'}).text.strip()\n",
    "\n",
    "        houses_data.append({'title': title, 'location': location, 'size': size, 'selling price': price})"
   ]
  },
  {
   "cell_type": "markdown",
   "id": "3ba8fdf5",
   "metadata": {
    "papermill": {
     "duration": 0.002274,
     "end_time": "2023-10-05T09:09:38.815465",
     "exception": false,
     "start_time": "2023-10-05T09:09:38.813191",
     "status": "completed"
    },
    "tags": []
   },
   "source": [
    "**Logic to save our data in csv file**\n",
    "- csv for comma seperated values, there are very many files formats, like parquate, excel, json, xml etc. Please do more reasearch on this "
   ]
  },
  {
   "cell_type": "code",
   "execution_count": 16,
   "id": "17853303",
   "metadata": {},
   "outputs": [
    {
     "data": {
      "text/plain": [
       "[]"
      ]
     },
     "execution_count": 16,
     "metadata": {},
     "output_type": "execute_result"
    }
   ],
   "source": [
    "houses_data"
   ]
  },
  {
   "cell_type": "code",
   "execution_count": 4,
   "id": "f10e279c",
   "metadata": {
    "execution": {
     "iopub.execute_input": "2023-10-05T09:09:38.823451Z",
     "iopub.status.busy": "2023-10-05T09:09:38.822067Z",
     "iopub.status.idle": "2023-10-05T09:09:38.829101Z",
     "shell.execute_reply": "2023-10-05T09:09:38.828353Z"
    },
    "papermill": {
     "duration": 0.0135,
     "end_time": "2023-10-05T09:09:38.831513",
     "exception": false,
     "start_time": "2023-10-05T09:09:38.818013",
     "status": "completed"
    },
    "tags": []
   },
   "outputs": [],
   "source": [
    "with open('data/houses-for-sale (1).csv', 'w', newline='', encoding='utf-8') as f:\n",
    "    csv_writer = csv.DictWriter(f, fieldnames=['title', 'location', 'size', 'selling price'])\n",
    "    csv_writer.writeheader()\n",
    "    csv_writer.writerows(houses_data)"
   ]
  },
  {
   "cell_type": "code",
   "execution_count": 17,
   "id": "8163d800",
   "metadata": {},
   "outputs": [
    {
     "data": {
      "application/javascript": [
       "\n",
       "        if (window._pyforest_update_imports_cell) { window._pyforest_update_imports_cell('import pandas as pd'); }\n",
       "    "
      ],
      "text/plain": [
       "<IPython.core.display.Javascript object>"
      ]
     },
     "metadata": {},
     "output_type": "display_data"
    }
   ],
   "source": [
    "\n",
    "data  = pd.read_csv(\"data/houses-for-sale.csv\")"
   ]
  },
  {
   "cell_type": "code",
   "execution_count": 18,
   "id": "869626fc",
   "metadata": {},
   "outputs": [
    {
     "data": {
      "text/html": [
       "<div>\n",
       "<style scoped>\n",
       "    .dataframe tbody tr th:only-of-type {\n",
       "        vertical-align: middle;\n",
       "    }\n",
       "\n",
       "    .dataframe tbody tr th {\n",
       "        vertical-align: top;\n",
       "    }\n",
       "\n",
       "    .dataframe thead th {\n",
       "        text-align: right;\n",
       "    }\n",
       "</style>\n",
       "<table border=\"1\" class=\"dataframe\">\n",
       "  <thead>\n",
       "    <tr style=\"text-align: right;\">\n",
       "      <th></th>\n",
       "      <th>title</th>\n",
       "      <th>location</th>\n",
       "      <th>size</th>\n",
       "      <th>selling price</th>\n",
       "    </tr>\n",
       "  </thead>\n",
       "  <tbody>\n",
       "    <tr>\n",
       "      <th>0</th>\n",
       "      <td>6 Bed Villa with En Suite at Kiambu Road</td>\n",
       "      <td>Kiambu Road</td>\n",
       "      <td>6bdrm Mansion in Mushroom Estate, Kiambu / Kia...</td>\n",
       "      <td>KSh 130,000,000</td>\n",
       "    </tr>\n",
       "    <tr>\n",
       "      <th>1</th>\n",
       "      <td>4 Bed Townhouse with En Suite at Off Kiambu Road</td>\n",
       "      <td>Off Kiambu Road, Kiambu Road</td>\n",
       "      <td>4 Bedroom with DSQ for Sale</td>\n",
       "      <td>KSh 26,950,000</td>\n",
       "    </tr>\n",
       "    <tr>\n",
       "      <th>2</th>\n",
       "      <td>4 Bed Villa with En Suite at Masai Lodge Road</td>\n",
       "      <td>masai lodge road, Ongata Rongai</td>\n",
       "      <td>New modern villa for sale.</td>\n",
       "      <td>KSh 16,000,000</td>\n",
       "    </tr>\n",
       "    <tr>\n",
       "      <th>3</th>\n",
       "      <td>5 Bed House with En Suite in Ngong Road</td>\n",
       "      <td>Ngong Road</td>\n",
       "      <td>5 Bedroom Town House For Sale In Kilimani</td>\n",
       "      <td>KSh 45,000,000</td>\n",
       "    </tr>\n",
       "    <tr>\n",
       "      <th>4</th>\n",
       "      <td>5 Bed Townhouse with En Suite in Lavington</td>\n",
       "      <td>Lavington</td>\n",
       "      <td>Modern 5 Bedroom Townhouse For Sale</td>\n",
       "      <td>KSh 72,000,000</td>\n",
       "    </tr>\n",
       "  </tbody>\n",
       "</table>\n",
       "</div>"
      ],
      "text/plain": [
       "                                              title  \\\n",
       "0          6 Bed Villa with En Suite at Kiambu Road   \n",
       "1  4 Bed Townhouse with En Suite at Off Kiambu Road   \n",
       "2     4 Bed Villa with En Suite at Masai Lodge Road   \n",
       "3           5 Bed House with En Suite in Ngong Road   \n",
       "4        5 Bed Townhouse with En Suite in Lavington   \n",
       "\n",
       "                          location  \\\n",
       "0                      Kiambu Road   \n",
       "1     Off Kiambu Road, Kiambu Road   \n",
       "2  masai lodge road, Ongata Rongai   \n",
       "3                       Ngong Road   \n",
       "4                        Lavington   \n",
       "\n",
       "                                                size    selling price  \n",
       "0  6bdrm Mansion in Mushroom Estate, Kiambu / Kia...  KSh 130,000,000  \n",
       "1                        4 Bedroom with DSQ for Sale   KSh 26,950,000  \n",
       "2                         New modern villa for sale.   KSh 16,000,000  \n",
       "3          5 Bedroom Town House For Sale In Kilimani   KSh 45,000,000  \n",
       "4                Modern 5 Bedroom Townhouse For Sale   KSh 72,000,000  "
      ]
     },
     "execution_count": 18,
     "metadata": {},
     "output_type": "execute_result"
    }
   ],
   "source": [
    "data.head()"
   ]
  },
  {
   "cell_type": "markdown",
   "id": "36dfaa7b",
   "metadata": {
    "papermill": {
     "duration": 0.00248,
     "end_time": "2023-10-05T09:09:38.837105",
     "exception": false,
     "start_time": "2023-10-05T09:09:38.834625",
     "status": "completed"
    },
    "tags": []
   },
   "source": [
    "### **Logic to copy data from our csv file into MySQL database**"
   ]
  },
  {
   "cell_type": "code",
   "execution_count": 28,
   "id": "8546dbad",
   "metadata": {},
   "outputs": [
    {
     "name": "stdout",
     "output_type": "stream",
     "text": [
      "Requirement already satisfied: mysql-connector-python in /home/grayhat/anaconda3/lib/python3.9/site-packages (8.1.0)\r\n",
      "Requirement already satisfied: protobuf<=4.21.12,>=4.21.1 in /home/grayhat/anaconda3/lib/python3.9/site-packages (from mysql-connector-python) (4.21.12)\r\n"
     ]
    }
   ],
   "source": [
    "!pip install mysql-connector-python"
   ]
  },
  {
   "cell_type": "code",
   "execution_count": 29,
   "id": "60564da5",
   "metadata": {},
   "outputs": [],
   "source": [
    "import mysql.connector\n",
    "\n",
    "connection = mysql.connector.connect(\n",
    "    host='127.0.0.1',\n",
    "    user='root',\n",
    "    password='33812040Abc#',\n",
    "    database='housedata'\n",
    ")"
   ]
  },
  {
   "cell_type": "code",
   "execution_count": 30,
   "id": "cc194a09",
   "metadata": {},
   "outputs": [],
   "source": [
    "cursor = connection.cursor()"
   ]
  },
  {
   "cell_type": "code",
   "execution_count": 31,
   "id": "52f843d7",
   "metadata": {},
   "outputs": [],
   "source": [
    "cursor.execute('CREATE TABLE IF NOT EXISTS houses (title VARCHAR(255), location VARCHAR(255), size VARCHAR(500), selling_price VARCHAR(255));')"
   ]
  },
  {
   "cell_type": "code",
   "execution_count": 32,
   "id": "fb733cf3",
   "metadata": {},
   "outputs": [],
   "source": [
    "with open('data/houses-for-sale.csv', 'r') as csv_file:\n",
    "    csv_reader = csv.reader(csv_file)\n",
    "    \n",
    "    \n",
    "    for row in csv_reader: \n",
    "        size = row[2]\n",
    "    try:\n",
    "        size = int(size)\n",
    "    except ValueError:\n",
    "\n",
    "        size = None  \n",
    "\n",
    "    cursor.execute('INSERT INTO houses (title, location, size, selling_price) VALUES (%s, %s, %s, %s)', (row[0], row[1], size, row[3]))\n",
    "\n",
    "       "
   ]
  },
  {
   "cell_type": "code",
   "execution_count": 33,
   "id": "dca51c6f",
   "metadata": {},
   "outputs": [],
   "source": [
    "connection.commit()"
   ]
  },
  {
   "cell_type": "code",
   "execution_count": 34,
   "id": "565eb0c1",
   "metadata": {},
   "outputs": [],
   "source": [
    "cursor.close()\n",
    "connection.close()"
   ]
  }
 ],
 "metadata": {
  "kernelspec": {
   "display_name": "Python 3 (ipykernel)",
   "language": "python",
   "name": "python3"
  },
  "language_info": {
   "codemirror_mode": {
    "name": "ipython",
    "version": 3
   },
   "file_extension": ".py",
   "mimetype": "text/x-python",
   "name": "python",
   "nbconvert_exporter": "python",
   "pygments_lexer": "ipython3",
   "version": "3.9.7"
  },
  "papermill": {
   "default_parameters": {},
   "duration": 4.050718,
   "end_time": "2023-10-05T09:09:39.361883",
   "environment_variables": {},
   "exception": null,
   "input_path": "__notebook__.ipynb",
   "output_path": "__notebook__.ipynb",
   "parameters": {},
   "start_time": "2023-10-05T09:09:35.311165",
   "version": "2.4.0"
  }
 },
 "nbformat": 4,
 "nbformat_minor": 5
}
